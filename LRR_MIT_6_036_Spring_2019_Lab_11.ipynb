{
  "nbformat": 4,
  "nbformat_minor": 0,
  "metadata": {
    "colab": {
      "name": "LRR MIT_6_036_Spring_2019_Lab_11.ipynb",
      "version": "0.3.2",
      "provenance": [],
      "collapsed_sections": [],
      "include_colab_link": true
    },
    "kernelspec": {
      "name": "python3",
      "display_name": "Python 3"
    }
  },
  "cells": [
    {
      "cell_type": "markdown",
      "metadata": {
        "id": "view-in-github",
        "colab_type": "text"
      },
      "source": [
        "<a href=\"https://colab.research.google.com/github/Lrraymond13/collab/blob/master/LRR_MIT_6_036_Spring_2019_Lab_11.ipynb\" target=\"_parent\"><img src=\"https://colab.research.google.com/assets/colab-badge.svg\" alt=\"Open In Colab\"/></a>"
      ]
    },
    {
      "metadata": {
        "id": "2XozwtJgh1-u",
        "colab_type": "text"
      },
      "cell_type": "markdown",
      "source": [
        "# **MIT 6.036 Spring 2019: Lab 11**\n",
        "\n",
        "This colab notebook provides code and a framework for sections 2 and 3 of the lab.\n",
        "\n",
        "## **Setup**\n",
        "\n",
        "First, download the code distribution for this homework that contains test cases and helper functions.\n",
        "\n",
        "Run the next code block to download and import the code for this lab."
      ]
    },
    {
      "metadata": {
        "id": "rCJPrb3KhPmw",
        "colab_type": "code",
        "colab": {
          "base_uri": "https://localhost:8080/",
          "height": 618
        },
        "outputId": "72bf4045-4ab5-4017-ea3d-77e0909d2e82"
      },
      "cell_type": "code",
      "source": [
        "import os\n",
        "os.chdir('/content')\n",
        "\n",
        "!rm -rf code_for_lab11*\n",
        "!wget --quiet https://introml.odl.mit.edu/cat-soop/_static/6.036/labs/lab11/code_for_lab11.zip\n",
        "!unzip code_for_lab11.zip\n",
        "\n",
        "import os\n",
        "os.chdir('/content/code_for_lab11')\n",
        "os.getcwd()\n",
        "\n",
        "from sm import *\n",
        "from util import *\n",
        "from code_for_lab11 import *\n",
        "import numpy as np\n",
        "import _pickle as cPickle\n",
        "m = cPickle.load(open('models/food_rnn.p', 'rb'))"
      ],
      "execution_count": 1,
      "outputs": [
        {
          "output_type": "stream",
          "text": [
            "Archive:  code_for_lab11.zip\n",
            "   creating: code_for_lab11/\n",
            "  inflating: code_for_lab11/code_for_lab11.py  \n",
            "  inflating: code_for_lab11/metal_bands.txt  \n",
            "  inflating: code_for_lab11/companies.txt  \n",
            "   creating: __MACOSX/\n",
            "   creating: __MACOSX/code_for_lab11/\n",
            "  inflating: __MACOSX/code_for_lab11/._companies.txt  \n",
            "  inflating: code_for_lab11/.DS_Store  \n",
            "  inflating: code_for_lab11/MIT_classes.txt  \n",
            "  inflating: __MACOSX/code_for_lab11/._MIT_classes.txt  \n",
            "  inflating: code_for_lab11/util.py  \n",
            "   creating: code_for_lab11/__pycache__/\n",
            "  inflating: code_for_lab11/__pycache__/util.cpython-35.pyc  \n",
            "   creating: __MACOSX/code_for_lab11/__pycache__/\n",
            "  inflating: __MACOSX/code_for_lab11/__pycache__/._util.cpython-35.pyc  \n",
            "  inflating: code_for_lab11/__pycache__/sm.cpython-35.pyc  \n",
            "  inflating: __MACOSX/code_for_lab11/__pycache__/._sm.cpython-35.pyc  \n",
            "  inflating: code_for_lab11/__pycache__/code_for_lab11.cpython-35.pyc  \n",
            "  inflating: __MACOSX/code_for_lab11/__pycache__/._code_for_lab11.cpython-35.pyc  \n",
            "  inflating: code_for_lab11/__pycache__/util.cpython-37.pyc  \n",
            "  inflating: code_for_lab11/__pycache__/sm.cpython-37.pyc  \n",
            "  inflating: code_for_lab11/sm.py    \n",
            "  inflating: code_for_lab11/baskervilles.txt  \n",
            "  inflating: code_for_lab11/basicEnglish.txt  \n",
            "  inflating: code_for_lab11/simple_poem.txt  \n",
            "  inflating: code_for_lab11/food.txt  \n",
            "  inflating: code_for_lab11/mousquetaires.txt  \n",
            "   creating: code_for_lab11/models/\n",
            "  inflating: code_for_lab11/models/food_rnn.p  \n",
            "  inflating: code_for_lab11/models/metal_rnn.p  \n",
            "  inflating: code_for_lab11/models/MIT_classes_rnn.p  \n",
            "  inflating: code_for_lab11/models/companies_rnn.p  \n",
            "  inflating: __MACOSX/._code_for_lab11  \n"
          ],
          "name": "stdout"
        }
      ]
    },
    {
      "metadata": {
        "id": "nOp2ZR1Nlc92",
        "colab_type": "text"
      },
      "cell_type": "markdown",
      "source": [
        "## **Section 2, Problem B**\n",
        "\n",
        "Below, you will find definitions of a procedure called *test_linear_accumulator* for training an rnn with input and output sequences of the kind produced by Accumulator. (Alternatively, you can look at *code_for_lab11.py* of the code file available for download) Study this function, in particular, the definition of the RNN instance; compare to your choices in the previous question."
      ]
    },
    {
      "metadata": {
        "id": "Otw09SGC1gk3",
        "colab_type": "code",
        "colab": {}
      },
      "cell_type": "code",
      "source": [
        "# please evaluate this cell to see its output\n",
        "\n",
        "def test_linear_accumulator(num_steps = 10000,\n",
        "                            num_seqs = 100, seq_length = 5,\n",
        "                            step_size = .01):\n",
        "    # generate random training data: num_seqs of seq_length of random\n",
        "    # numbers between -0.5 and 0.5.\n",
        "    data = []\n",
        "    for _ in range(num_seqs):           \n",
        "        x = np.random.random((1, seq_length)) - 0.5 # seq in\n",
        "        y = np.zeros((1, seq_length))               # seq out\n",
        "        for j in range(seq_length):\n",
        "            y[0, j] = x[0, j] + (0.0 if j == 0 else y[0, j-1])\n",
        "        data.append((x, y))\n",
        "    # specify rnn\n",
        "    rnn = RNN(1, 1, 1, quadratic_loss, lambda z: z, quadratic_linear_gradient,\n",
        "              step_size, lambda z: z, lambda z: 1)\n",
        "    # train it\n",
        "    rnn.train_seq_to_seq(data, num_steps)\n",
        "    # print weights\n",
        "    print(\"Wsx: \", rnn.Wsx); print(\"Wss: \", rnn.Wss); print(\"Wo: \", rnn.Wo); print(\"Wss0: \", rnn.Wss0); print(\"Wo0: \", rnn.Wo0)\n",
        "    return rnn\n"
      ],
      "execution_count": 0,
      "outputs": []
    },
    {
      "metadata": {
        "id": "Z-OD7bEq1pSL",
        "colab_type": "text"
      },
      "cell_type": "markdown",
      "source": [
        "Now run this function a few times, making sure that the training error is low and look at the final weights. Relate to the weights you chose above. Explain."
      ]
    },
    {
      "metadata": {
        "colab_type": "code",
        "id": "t1QR46mE1Vzj",
        "colab": {
          "base_uri": "https://localhost:8080/",
          "height": 282
        },
        "outputId": "6bb1c744-af69-4713-a582-135e63ccaa6f"
      },
      "cell_type": "code",
      "source": [
        "test_linear_accumulator()"
      ],
      "execution_count": 3,
      "outputs": [
        {
          "output_type": "stream",
          "text": [
            "1/10: training error 0.008031317564126901\n",
            "2/10: training error 6.259027823211874e-18\n",
            "3/10: training error 5.6556151219764685e-33\n",
            "4/10: training error 1.648729331423909e-08\n",
            "5/10: training error 0.0003398681085417393\n",
            "6/10: training error 1.375739496490081e-18\n",
            "7/10: training error 4.916928139707178e-05\n",
            "8/10: training error 2.9720770836517534e-05\n",
            "9/10: training error 7.5692706911847686e-06\n",
            "Wsx:  [[-1.52950259]]\n",
            "Wss:  [[1.00000014]]\n",
            "Wo:  [[-0.65380749]]\n",
            "Wss0:  [[-1.03507404e-07]]\n",
            "Wo0:  [[2.1416768e-08]]\n"
          ],
          "name": "stdout"
        },
        {
          "output_type": "execute_result",
          "data": {
            "text/plain": [
              "<code_for_lab11.RNN at 0x7f40784ee470>"
            ]
          },
          "metadata": {
            "tags": []
          },
          "execution_count": 3
        }
      ]
    },
    {
      "metadata": {
        "id": "HZ629z-1xz4d",
        "colab_type": "text"
      },
      "cell_type": "markdown",
      "source": [
        "## **Section 3**"
      ]
    },
    {
      "metadata": {
        "id": "FtbW_gHiyyAq",
        "colab_type": "text"
      },
      "cell_type": "markdown",
      "source": [
        "For each of \n",
        "\n",
        "*   \"aaaaaaaaaa\"\n",
        "*   \"aabaaabbaaaababaabaa\"\n",
        "*   \"abcdefghijklmnopqrstuvwxyz\"\n",
        "*   \"abcabcabcabcabc\"\n",
        "\n",
        "train an RNN and assess the difficulty of learning each string. You may control *num_hidden* and *num_steps* to facilitate your training in the code below.\n"
      ]
    },
    {
      "metadata": {
        "id": "euRE-Zglzket",
        "colab_type": "code",
        "colab": {
          "base_uri": "https://localhost:8080/",
          "height": 1980
        },
        "outputId": "e825f29d-cbf0-48bf-a980-135e716f24a7"
      },
      "cell_type": "code",
      "source": [
        "test_word(\"aaaaaaaaaa\", interactive = False, num_hidden=1, num_steps=10000, step_size=0.005)"
      ],
      "execution_count": 4,
      "outputs": [
        {
          "output_type": "stream",
          "text": [
            "1/10: training error 0.2976525014108827\n",
            "2/10: training error 0.029475356638881407\n",
            "3/10: training error 0.008665537055096243\n",
            "4/10: training error 0.004092058884898422\n",
            "5/10: training error 0.0021120828480458674\n",
            "6/10: training error 0.0011401536196234538\n",
            "7/10: training error 0.00063188917601564\n",
            "8/10: training error 0.0003561075238907814\n",
            "9/10: training error 0.0002029687053186358\n",
            "aaaaaaaaaa\n",
            "aaaaaaaaaa\n",
            "aaaaaaaaaa\n",
            "aaaaaaaaaa\n",
            "aaaaaaaaaa\n",
            "aaaaaaaaaa\n",
            "aaaaaaaaaa\n",
            "aaaaaaaaaa\n",
            "aaaaaaaaaa\n",
            "aaaaaaaaaa\n",
            "aaaaaaaaaa\n",
            "aaaaaaaaaa\n",
            "aaaaaaaaaa\n",
            "aaaaaaaaaa\n",
            "aaaaaaaaaa\n",
            "aaaaaaaaaa\n",
            "aaaaaaaaaa\n",
            "aaaaaaaaaa\n",
            "aaaaaaaaaa\n",
            "aaaaaaaaaa\n",
            "aaaaaaaaaa\n",
            "aaaaaaaaaa\n",
            "aaaaaaaaaa\n",
            "aaaaaaaaaa\n",
            "aaaaaaaaaa\n",
            "aaaaaaaaaa\n",
            "aaaaaaaaaa\n",
            "aaaaaaaaaa\n",
            "aaaaaaaaaa\n",
            "aaaaaaaaaa\n",
            "aaaaaaaaaa\n",
            "aaaaaaaaaa\n",
            "aaaaaaaaaa\n",
            "aaaaaaaaaa\n",
            "aaaaaaaaaa\n",
            "aaaaaaaaaa\n",
            "aaaaaaaaaa\n",
            "aaaaaaaaaa\n",
            "aaaaaaaaaa\n",
            "aaaaaaaaaa\n",
            "aaaaaaaaaa\n",
            "aaaaaaaaaa\n",
            "aaaaaaaaaa\n",
            "aaaaaaaaaa\n",
            "aaaaaaaaaa\n",
            "aaaaaaaaaa\n",
            "aaaaaaaaaa\n",
            "aaaaaaaaaa\n",
            "aaaaaaaaaa\n",
            "aaaaaaaaaa\n",
            "aaaaaaaaaa\n",
            "aaaaaaaaaa\n",
            "aaaaaaaaaa\n",
            "aaaaaaaaaa\n",
            "aaaaaaaaaa\n",
            "aaaaaaaaaa\n",
            "aaaaaaaaaa\n",
            "aaaaaaaaaa\n",
            "aaaaaaaaaa\n",
            "aaaaaaaaaa\n",
            "aaaaaaaaaa\n",
            "aaaaaaaaaa\n",
            "aaaaaaaaaa\n",
            "aaaaaaaaaa\n",
            "aaaaaaaaaa\n",
            "aaaaaaaaaaa\n",
            "aaaaaaaaaa\n",
            "aaaaaaaaaa\n",
            "aaaaaaaaaa\n",
            "aaaaaaaaaa\n",
            "aaaaaaaaaa\n",
            "aaaaaaaaaa\n",
            "aaaaaaaaaa\n",
            "aaaaaaaaaa\n",
            "aaaaaaaaaa\n",
            "aaaaaaaaaa\n",
            "aaaaaaaaaa\n",
            "aaaaaaaaaa\n",
            "aaaaaaaaaa\n",
            "aaaaaaaaaa\n",
            "aaaaaaaaaa\n",
            "aaaaaaaaaa\n",
            "aaaaaaaaaa\n",
            "aaaaaaaaaa\n",
            "aaaaaaaaaa\n",
            "aaaaaaaaaa\n",
            "aaaaaaaaaa\n",
            "aaaaaaaaaa\n",
            "aaaaaaaaaa\n",
            "aaaaaaaaaa\n",
            "aaaaaaaaaa\n",
            "aaaaaaaaaa\n",
            "aaaaaaaaaa\n",
            "aaaaaaaaaa\n",
            "aaaaaaaaaa\n",
            "aaaaaaaaaa\n",
            "aaaaaaaaaa\n",
            "aaaaaaaaaa\n",
            "aaaaaaaaaa\n",
            "aaaaaaaaaa\n"
          ],
          "name": "stdout"
        },
        {
          "output_type": "execute_result",
          "data": {
            "text/plain": [
              "(<code_for_lab11.RNN at 0x7f4078671908>,\n",
              " <code_for_lab11.OneHotCodec at 0x7f4078671a90>)"
            ]
          },
          "metadata": {
            "tags": []
          },
          "execution_count": 4
        }
      ]
    },
    {
      "metadata": {
        "id": "--_tiGbyzoCW",
        "colab_type": "code",
        "colab": {}
      },
      "cell_type": "code",
      "source": [
        "test_word(\"aabaaabbaaaababaabaa\", interactive = False, num_hidden=1, num_steps=10000, step_size=0.005)"
      ],
      "execution_count": 0,
      "outputs": []
    },
    {
      "metadata": {
        "id": "aGAyQxO7zqSG",
        "colab_type": "code",
        "colab": {
          "base_uri": "https://localhost:8080/",
          "height": 1980
        },
        "outputId": "96fbd5a3-06f0-4304-9b73-efdde6a7bf66"
      },
      "cell_type": "code",
      "source": [
        "test_word(\"abcdefghijklmnopqrstuvwxyz\", interactive = False, num_hidden=4, num_steps=10000, step_size=0.005)"
      ],
      "execution_count": 7,
      "outputs": [
        {
          "output_type": "stream",
          "text": [
            "1/10: training error 0.9150458557458756\n",
            "2/10: training error 0.11397191377264525\n",
            "3/10: training error 0.03292298811425641\n",
            "4/10: training error 0.014127945367794464\n",
            "5/10: training error 0.007310334359662836\n",
            "6/10: training error 0.004082960784605277\n",
            "7/10: training error 0.0023679733052415735\n",
            "8/10: training error 0.0014001842320729323\n",
            "9/10: training error 0.0008175647032301755\n",
            "abcdefghijklmnopqrstuvwxyz\n",
            "abcdefghijklmnopqrstuvwxyz\n",
            "abcdefghijklmnopqrstuvwxyz\n",
            "abcdefghijklmnopqrstuvwxyz\n",
            "abcdefghijklmnopqrstuvwxyz\n",
            "abcdefghijklmnopqrstuvwxyz\n",
            "abcdefghijklmnopqrstuvwxyz\n",
            "abcdefghijklmnopqrstuvwxyz\n",
            "abcdefghijklmnopqrstuvwxyz\n",
            "abcdefghijklmnopqrstuvwxyz\n",
            "abcdefghijklmnopqrstuvwxyz\n",
            "abcdefghijklmnopqrstuvwxyz\n",
            "abcdefghijklmnopqrstuvwxyz\n",
            "abcdefghijklmnopqrstuvwxyz\n",
            "abcdefghijklmnopqrstuvwxyz\n",
            "abcdefghijklmnopqrstuvwxyz\n",
            "abcdefghijklmnopqrstuvwxyz\n",
            "abcdefghijklmnopqrstuvwxyz\n",
            "abcdefghijklmnopqrstuvwxyz\n",
            "abcdefghijklmnopqrstuvwxyz\n",
            "abcdefghijklmnopqrstuvwxyz\n",
            "abcdefghijklmnopqrstuvwxyz\n",
            "abcdefghijklmnopqrstuvwxyz\n",
            "abcdefghijklmnopqrstuvwxyz\n",
            "abcdefghijklmnopqrstuvwxyz\n",
            "abcdefghijklmnopqrstuvwxyz\n",
            "abcdefghijklmnopqrstuvwxyz\n",
            "abcdefghijklmnopqrstuvwxyz\n",
            "abcdefghijklmnopqrstuvwxyz\n",
            "abcdefghijklmnopqrstuvwxyz\n",
            "abcdefghijklmnopqrstuvwxyz\n",
            "abcdefghijklmnopqrstuvwxyz\n",
            "abcdefghijklmnopqrstuvwxyz\n",
            "abcdefghijklmnopqrstuvwxyz\n",
            "abcdefghijklmnopqrstuvwxyz\n",
            "abcdefghijklmnopqrstuvwxyz\n",
            "abcdefghijklmnopqrstuvwxyz\n",
            "abcdefghijklmnopqrstuvwxyz\n",
            "abcdefghijklmnopqrstuvwxyz\n",
            "abcdefghijklmnopqrstuvwxyz\n",
            "abcdefghijklmnopqrstuvwxyz\n",
            "abcdefghijklmnopqrstuvwxyz\n",
            "abcdefghijklmnopqrstuvwxyz\n",
            "abcdefghijklmnopqrstuvwxyz\n",
            "abcdefghijklmnopqrstuvwxyz\n",
            "abcdefghijklmnopqrstuvwxyz\n",
            "abcdefghijklmnopqrstuvwxyz\n",
            "abcdefghijklmnopqrstuvwxyz\n",
            "abcdefghijklmnopqrstuvwxyz\n",
            "abcdefghijklmnopqrstuvwxyz\n",
            "abcdefghijklmnopqrstuvwxyz\n",
            "abcdefghijklmnopqrstuvwxyz\n",
            "abcdefghijklmnopqrstuvwxyz\n",
            "abcdefghijklmnopqrstuvwxyz\n",
            "abcdefghijklmnopqrstuvwxyz\n",
            "abcdefghijklmnopqrstuvwxyz\n",
            "abcdefghijklmnopqrstuvwxyz\n",
            "abcdefghijklmnopqrstuvwxyz\n",
            "abcdefghijklmnopqrstuvwxyz\n",
            "abcdefghijklmnopqrstuvwxyz\n",
            "abcdefghijklmnopqrstuvwxyz\n",
            "abcdefghijklmnopqrstuvwxyz\n",
            "abcdefghijklmnopqrstuvwxyz\n",
            "abcdefghijklmnopqrstuvwxyz\n",
            "abcdefghijklmnopqrstuvwxyz\n",
            "abcdefghijklmnopqrstuvwxyz\n",
            "abcdefghijklmnopqrstuvwxyz\n",
            "abcdefghijklmnopqrstuvwxyz\n",
            "abcdefghijklmnopqrstuvwxyz\n",
            "abcdefghijklmnopqrstuvwxyz\n",
            "abcdefghijklmnopqrstuvwxyz\n",
            "abcdefghijklmnopqrstuvwxyz\n",
            "abcdefghijklmnopqrstuvwxyz\n",
            "abcdefghijklmnopqrstuvwxyz\n",
            "abcdefghijklmnopqrstuvwxyz\n",
            "abcdefghijklmnopqrstuvwxyz\n",
            "abcdefghijklmnopqrstuvwxyz\n",
            "abcdefghijklmnopqrstuvwxyz\n",
            "abcdefghijklmnopqrstuvwxyz\n",
            "abcdefghijklmnopqrstuvwxyz\n",
            "abcdefghijklmnopqrstuvwxyz\n",
            "abcdefghijklmnopqrstuvwxyz\n",
            "abcdefghijklmnopqrstuvwxyz\n",
            "abcdefghijklmnopqrstuvwxyz\n",
            "abcdefghijklmnopqrstuvwxyz\n",
            "abcdefghijklmnopqrstuvwxyz\n",
            "abcdefghijklmnopqrstuvwxyz\n",
            "abcdefghijklmnopqrstuvwxyz\n",
            "abcdefghijklmnopqrstuvwxyz\n",
            "abcdefghijklmnopqrstuvwxyz\n",
            "abcdefghijklmnopqrstuvwxyz\n",
            "abcdefghijklmnopqrstuvwxyz\n",
            "abcdefghijklmnopqrstuvwxyz\n",
            "abcdefghijklmnopqrstuvwxyz\n",
            "abcdefghijklmnopqrstuvwxyz\n",
            "abcdefghijklmnopqrstuvwxyz\n",
            "abcdefghijklmnopqrstuvwxyz\n",
            "abcdefghijklmnopqrstuvwxyz\n",
            "abcdefghijklmnopqrstuvwxyz\n",
            "abcdefghijklmnopqrstuvwxyz\n"
          ],
          "name": "stdout"
        },
        {
          "output_type": "execute_result",
          "data": {
            "text/plain": [
              "(<code_for_lab11.RNN at 0x7f407867aba8>,\n",
              " <code_for_lab11.OneHotCodec at 0x7f4078671978>)"
            ]
          },
          "metadata": {
            "tags": []
          },
          "execution_count": 7
        }
      ]
    },
    {
      "metadata": {
        "id": "9BI7pgDbzsim",
        "colab_type": "code",
        "colab": {
          "base_uri": "https://localhost:8080/",
          "height": 1980
        },
        "outputId": "e6dadb91-5d8f-476f-f5ff-e1967c1e4a24"
      },
      "cell_type": "code",
      "source": [
        "test_word(\"abcabcabcabcabc\", interactive = False, num_hidden=2, num_steps=10000, step_size=0.005)"
      ],
      "execution_count": 8,
      "outputs": [
        {
          "output_type": "stream",
          "text": [
            "1/10: training error 0.33884858515654787\n",
            "2/10: training error 0.17380646519581402\n",
            "3/10: training error 0.1295195637949452\n",
            "4/10: training error 0.029543929811296086\n",
            "5/10: training error 0.007463206371408302\n",
            "6/10: training error 0.003296726109328047\n",
            "7/10: training error 0.001827657790958875\n",
            "8/10: training error 0.0010514428859716713\n",
            "9/10: training error 0.028204950616031507\n",
            "abcabcabcabcabc\n",
            "abcabcabcabcabc\n",
            "abcabcabcabcabc\n",
            "abcabcabcabcabc\n",
            "abcabcabcabcabc\n",
            "abcabcabcabcabc\n",
            "abcabcabcabcabc\n",
            "abcabcabcabcabc\n",
            "abcabcabcabcabc\n",
            "abcabcabcabcabc\n",
            "abcabcabcabcabc\n",
            "abcabcabcabcabc\n",
            "abcabcabcabcabc\n",
            "abcabcabcabcabc\n",
            "abcabcabcabcabc\n",
            "abcabcabcabcabc\n",
            "abcabcabcabcabc\n",
            "abcabcabcabcabc\n",
            "abcabcabcabcabc\n",
            "abcabcabcabcabc\n",
            "abcabcabcabcabc\n",
            "abcabcabcabcabc\n",
            "abcabcabcabcabc\n",
            "abcabcabcabcabc\n",
            "abcabcabcabcabc\n",
            "abcabcabcabcabc\n",
            "abcabcabcabcabc\n",
            "abcabcabcabcabc\n",
            "abcabcabcabcabc\n",
            "abcabcabcabcabc\n",
            "abcabcabcabcabc\n",
            "abcabcabcabcabc\n",
            "abcabcabcabcabc\n",
            "abcabcabcabcabc\n",
            "abcabcabcabcabc\n",
            "abcabcabcabcabc\n",
            "abcabcabcabcabc\n",
            "abcabcabcabcabc\n",
            "abcabcabcabcabc\n",
            "abcabcabcabcabc\n",
            "abcabcabcabcabc\n",
            "abcabcabcabcabc\n",
            "abcabcabcabcabc\n",
            "abcabcabcabcabc\n",
            "abcabcabcabcabc\n",
            "abcabcabcabcabc\n",
            "abcabcabcabcabc\n",
            "abcabcabcabcabc\n",
            "abcabcabcabcabc\n",
            "abcabcabcabcabc\n",
            "abcabcabcabcabc\n",
            "abcabcabcabcabc\n",
            "abcabcabcabcabc\n",
            "abcabcabcabcabc\n",
            "abcabcabcabcabc\n",
            "abcabcabcabcabc\n",
            "abcabcabcabcabc\n",
            "abcabcabcabcabc\n",
            "abcabcabcabcabc\n",
            "abcabcabcabcabc\n",
            "abcabcabcabcabc\n",
            "abcabcabcabcabc\n",
            "abcabcabcabcabc\n",
            "abcabcabcabcabc\n",
            "abcabcabcabcabc\n",
            "abcabcabcabcabc\n",
            "abcabcabcabcabc\n",
            "abcabcabcabcabc\n",
            "abcabcabcabcabc\n",
            "abcabcabcabcabc\n",
            "abcabcabcabcabc\n",
            "abcabcabcabcabc\n",
            "abcabcabcabcabc\n",
            "abcabcabcabcabc\n",
            "abcabcabcabcabc\n",
            "abcabcabcabcabc\n",
            "abcabcabcabcabc\n",
            "abcabcabcabcabc\n",
            "abcabcabcabcabc\n",
            "abcabcabcabcabc\n",
            "abcabcabcabcabc\n",
            "abcabcabcabcabc\n",
            "abcabcabcabcabc\n",
            "abcabcabcabcabc\n",
            "abcabcabcabcabc\n",
            "abcabcabcabcabc\n",
            "abcabcabcabcabc\n",
            "abcabcabcabcabc\n",
            "abcabcabcabcabc\n",
            "abcabcabcabcabc\n",
            "abcabcabcabcabc\n",
            "abcabcabcabcabc\n",
            "abcabcabcabcabc\n",
            "abcabcabcabcabc\n",
            "abcabcabcabcabc\n",
            "abcabcabcabcabc\n",
            "abcabcabcabcabc\n",
            "abcabcabcabcabc\n",
            "abcabcabcabcabc\n",
            "abcabcabcabcabc\n"
          ],
          "name": "stdout"
        },
        {
          "output_type": "execute_result",
          "data": {
            "text/plain": [
              "(<code_for_lab11.RNN at 0x7f4078671eb8>,\n",
              " <code_for_lab11.OneHotCodec at 0x7f4078671dd8>)"
            ]
          },
          "metadata": {
            "tags": []
          },
          "execution_count": 8
        }
      ]
    },
    {
      "metadata": {
        "id": "zuA9fE44zdUb",
        "colab_type": "text"
      },
      "cell_type": "markdown",
      "source": [
        "## Problem 3D\n",
        "\n",
        "The *test_class_names* function uses a file <a href=\"https://docs.google.com/document/d/1X1CxoreisEHRSwFDzbh3SxnBbTOILNbVbjD_Ef0fx9k/edit?usp=sharing\">MIT_classes.txt</a> (which is a collection of names of classes taught at MIT) for training\n",
        "and generates new names. Experiment with different values of num_steps; more steps gives better results. Try it in interactive mode; it's more fun. Note the difference between starting with a capital letter versus lower case letter.\n",
        "\n",
        "**In running *test_class_names*, first try with *train=True*; you can train the RNN yourself with this option. If this takes too much time, run  *test_class_names* with *train=False*; you can simply load a pre-trained model with this option. **\n",
        "\n"
      ]
    },
    {
      "metadata": {
        "id": "oj8wsxKr18Mj",
        "colab_type": "code",
        "colab": {
          "base_uri": "https://localhost:8080/",
          "height": 723
        },
        "outputId": "8a8f62a4-afac-454c-fe7d-1c638614081d"
      },
      "cell_type": "code",
      "source": [
        "test_class_names(interactive = True, interactive_top5 = False, \n",
        "           split=0, num_hidden = 150, \n",
        "           num_steps = 20000, step_size = .001, train=True)"
      ],
      "execution_count": 9,
      "outputs": [
        {
          "output_type": "stream",
          "text": [
            "1/10: training error 2.749797935536502\n",
            "2/10: training error 2.026346514009543\n",
            "3/10: training error 1.6692937504343657\n",
            "4/10: training error 1.4589400401030075\n",
            "5/10: training error 1.3537146122738537\n",
            "6/10: training error 1.2703298163478463\n",
            "7/10: training error 1.2210345003770784\n",
            "8/10: training error 1.1595565602629696\n",
            "9/10: training error 1.138764386165184\n"
          ],
          "name": "stdout"
        },
        {
          "output_type": "error",
          "ename": "KeyboardInterrupt",
          "evalue": "ignored",
          "traceback": [
            "\u001b[0;31m---------------------------------------------------------------------------\u001b[0m",
            "\u001b[0;31mKeyboardInterrupt\u001b[0m                         Traceback (most recent call last)",
            "\u001b[0;32m/usr/local/lib/python3.6/dist-packages/ipykernel/kernelbase.py\u001b[0m in \u001b[0;36m_input_request\u001b[0;34m(self, prompt, ident, parent, password)\u001b[0m\n\u001b[1;32m    729\u001b[0m             \u001b[0;32mtry\u001b[0m\u001b[0;34m:\u001b[0m\u001b[0;34m\u001b[0m\u001b[0;34m\u001b[0m\u001b[0m\n\u001b[0;32m--> 730\u001b[0;31m                 \u001b[0mident\u001b[0m\u001b[0;34m,\u001b[0m \u001b[0mreply\u001b[0m \u001b[0;34m=\u001b[0m \u001b[0mself\u001b[0m\u001b[0;34m.\u001b[0m\u001b[0msession\u001b[0m\u001b[0;34m.\u001b[0m\u001b[0mrecv\u001b[0m\u001b[0;34m(\u001b[0m\u001b[0mself\u001b[0m\u001b[0;34m.\u001b[0m\u001b[0mstdin_socket\u001b[0m\u001b[0;34m,\u001b[0m \u001b[0;36m0\u001b[0m\u001b[0;34m)\u001b[0m\u001b[0;34m\u001b[0m\u001b[0;34m\u001b[0m\u001b[0m\n\u001b[0m\u001b[1;32m    731\u001b[0m             \u001b[0;32mexcept\u001b[0m \u001b[0mException\u001b[0m\u001b[0;34m:\u001b[0m\u001b[0;34m\u001b[0m\u001b[0;34m\u001b[0m\u001b[0m\n",
            "\u001b[0;32m/usr/local/lib/python3.6/dist-packages/jupyter_client/session.py\u001b[0m in \u001b[0;36mrecv\u001b[0;34m(self, socket, mode, content, copy)\u001b[0m\n\u001b[1;32m    802\u001b[0m         \u001b[0;32mtry\u001b[0m\u001b[0;34m:\u001b[0m\u001b[0;34m\u001b[0m\u001b[0;34m\u001b[0m\u001b[0m\n\u001b[0;32m--> 803\u001b[0;31m             \u001b[0mmsg_list\u001b[0m \u001b[0;34m=\u001b[0m \u001b[0msocket\u001b[0m\u001b[0;34m.\u001b[0m\u001b[0mrecv_multipart\u001b[0m\u001b[0;34m(\u001b[0m\u001b[0mmode\u001b[0m\u001b[0;34m,\u001b[0m \u001b[0mcopy\u001b[0m\u001b[0;34m=\u001b[0m\u001b[0mcopy\u001b[0m\u001b[0;34m)\u001b[0m\u001b[0;34m\u001b[0m\u001b[0;34m\u001b[0m\u001b[0m\n\u001b[0m\u001b[1;32m    804\u001b[0m         \u001b[0;32mexcept\u001b[0m \u001b[0mzmq\u001b[0m\u001b[0;34m.\u001b[0m\u001b[0mZMQError\u001b[0m \u001b[0;32mas\u001b[0m \u001b[0me\u001b[0m\u001b[0;34m:\u001b[0m\u001b[0;34m\u001b[0m\u001b[0;34m\u001b[0m\u001b[0m\n",
            "\u001b[0;32m/usr/local/lib/python3.6/dist-packages/zmq/sugar/socket.py\u001b[0m in \u001b[0;36mrecv_multipart\u001b[0;34m(self, flags, copy, track)\u001b[0m\n\u001b[1;32m    465\u001b[0m         \"\"\"\n\u001b[0;32m--> 466\u001b[0;31m         \u001b[0mparts\u001b[0m \u001b[0;34m=\u001b[0m \u001b[0;34m[\u001b[0m\u001b[0mself\u001b[0m\u001b[0;34m.\u001b[0m\u001b[0mrecv\u001b[0m\u001b[0;34m(\u001b[0m\u001b[0mflags\u001b[0m\u001b[0;34m,\u001b[0m \u001b[0mcopy\u001b[0m\u001b[0;34m=\u001b[0m\u001b[0mcopy\u001b[0m\u001b[0;34m,\u001b[0m \u001b[0mtrack\u001b[0m\u001b[0;34m=\u001b[0m\u001b[0mtrack\u001b[0m\u001b[0;34m)\u001b[0m\u001b[0;34m]\u001b[0m\u001b[0;34m\u001b[0m\u001b[0;34m\u001b[0m\u001b[0m\n\u001b[0m\u001b[1;32m    467\u001b[0m         \u001b[0;31m# have first part already, only loop while more to receive\u001b[0m\u001b[0;34m\u001b[0m\u001b[0;34m\u001b[0m\u001b[0;34m\u001b[0m\u001b[0m\n",
            "\u001b[0;32mzmq/backend/cython/socket.pyx\u001b[0m in \u001b[0;36mzmq.backend.cython.socket.Socket.recv\u001b[0;34m()\u001b[0m\n",
            "\u001b[0;32mzmq/backend/cython/socket.pyx\u001b[0m in \u001b[0;36mzmq.backend.cython.socket.Socket.recv\u001b[0;34m()\u001b[0m\n",
            "\u001b[0;32mzmq/backend/cython/socket.pyx\u001b[0m in \u001b[0;36mzmq.backend.cython.socket._recv_copy\u001b[0;34m()\u001b[0m\n",
            "\u001b[0;32m/usr/local/lib/python3.6/dist-packages/zmq/backend/cython/checkrc.pxd\u001b[0m in \u001b[0;36mzmq.backend.cython.checkrc._check_rc\u001b[0;34m()\u001b[0m\n",
            "\u001b[0;31mKeyboardInterrupt\u001b[0m: ",
            "\nDuring handling of the above exception, another exception occurred:\n",
            "\u001b[0;31mKeyboardInterrupt\u001b[0m                         Traceback (most recent call last)",
            "\u001b[0;32m<ipython-input-9-ef967bbb2dd9>\u001b[0m in \u001b[0;36m<module>\u001b[0;34m()\u001b[0m\n\u001b[1;32m      1\u001b[0m test_class_names(interactive = True, interactive_top5 = False, \n\u001b[1;32m      2\u001b[0m            \u001b[0msplit\u001b[0m\u001b[0;34m=\u001b[0m\u001b[0;36m0\u001b[0m\u001b[0;34m,\u001b[0m \u001b[0mnum_hidden\u001b[0m \u001b[0;34m=\u001b[0m \u001b[0;36m150\u001b[0m\u001b[0;34m,\u001b[0m\u001b[0;34m\u001b[0m\u001b[0;34m\u001b[0m\u001b[0m\n\u001b[0;32m----> 3\u001b[0;31m            num_steps = 20000, step_size = .001, train=True)\n\u001b[0m",
            "\u001b[0;32m/content/code_for_lab11/code_for_lab11.py\u001b[0m in \u001b[0;36mtest_class_names\u001b[0;34m(interactive, interactive_top5, split, num_hidden, num_steps, step_size, train)\u001b[0m\n\u001b[1;32m    288\u001b[0m     \u001b[0;32mif\u001b[0m \u001b[0mtrain\u001b[0m\u001b[0;34m==\u001b[0m\u001b[0;32mTrue\u001b[0m\u001b[0;34m:\u001b[0m\u001b[0;34m\u001b[0m\u001b[0;34m\u001b[0m\u001b[0m\n\u001b[1;32m    289\u001b[0m         return generate_seq(data, interactive = interactive, split=split,\n\u001b[0;32m--> 290\u001b[0;31m                             num_hidden=num_hidden, num_steps=num_steps, step_size=step_size)\n\u001b[0m\u001b[1;32m    291\u001b[0m     \u001b[0;32melse\u001b[0m\u001b[0;34m:\u001b[0m\u001b[0;34m\u001b[0m\u001b[0;34m\u001b[0m\u001b[0m\n\u001b[1;32m    292\u001b[0m         \u001b[0min_file\u001b[0m \u001b[0;34m=\u001b[0m \u001b[0;34m'models/MIT_classes_rnn.p'\u001b[0m\u001b[0;34m\u001b[0m\u001b[0;34m\u001b[0m\u001b[0m\n",
            "\u001b[0;32m/content/code_for_lab11/code_for_lab11.py\u001b[0m in \u001b[0;36mgenerate_seq\u001b[0;34m(words, num_steps, step_size, num_hidden, split, interactive, interactive_top5)\u001b[0m\n\u001b[1;32m    203\u001b[0m     \u001b[0;32mif\u001b[0m \u001b[0minteractive\u001b[0m \u001b[0;32mand\u001b[0m \u001b[0;32mnot\u001b[0m\u001b[0;34m(\u001b[0m\u001b[0minteractive_top5\u001b[0m\u001b[0;34m)\u001b[0m\u001b[0;34m:\u001b[0m\u001b[0;34m\u001b[0m\u001b[0;34m\u001b[0m\u001b[0m\n\u001b[1;32m    204\u001b[0m         \u001b[0;32mfor\u001b[0m \u001b[0m_\u001b[0m \u001b[0;32min\u001b[0m \u001b[0mrange\u001b[0m\u001b[0;34m(\u001b[0m\u001b[0;36m100\u001b[0m\u001b[0;34m)\u001b[0m\u001b[0;34m:\u001b[0m\u001b[0;34m\u001b[0m\u001b[0;34m\u001b[0m\u001b[0m\n\u001b[0;32m--> 205\u001b[0;31m             \u001b[0mrnn\u001b[0m\u001b[0;34m.\u001b[0m\u001b[0mgen_seq_interactive\u001b[0m\u001b[0;34m(\u001b[0m\u001b[0mcodec\u001b[0m\u001b[0;34m)\u001b[0m\u001b[0;34m\u001b[0m\u001b[0;34m\u001b[0m\u001b[0m\n\u001b[0m\u001b[1;32m    206\u001b[0m     \u001b[0;32melif\u001b[0m \u001b[0minteractive_top5\u001b[0m\u001b[0;34m:\u001b[0m\u001b[0;34m\u001b[0m\u001b[0;34m\u001b[0m\u001b[0m\n\u001b[1;32m    207\u001b[0m         \u001b[0mrnn\u001b[0m\u001b[0;34m.\u001b[0m\u001b[0mgen_seq_interactive_top5\u001b[0m\u001b[0;34m(\u001b[0m\u001b[0mcodec\u001b[0m\u001b[0;34m)\u001b[0m\u001b[0;34m\u001b[0m\u001b[0;34m\u001b[0m\u001b[0m\n",
            "\u001b[0;32m/content/code_for_lab11/code_for_lab11.py\u001b[0m in \u001b[0;36mgen_seq_interactive\u001b[0;34m(self, codec, seq_len, maximize)\u001b[0m\n\u001b[1;32m    572\u001b[0m     \u001b[0;32mdef\u001b[0m \u001b[0mgen_seq_interactive\u001b[0m\u001b[0;34m(\u001b[0m\u001b[0mself\u001b[0m\u001b[0;34m,\u001b[0m \u001b[0mcodec\u001b[0m\u001b[0;34m,\u001b[0m \u001b[0mseq_len\u001b[0m \u001b[0;34m=\u001b[0m \u001b[0;36m100\u001b[0m\u001b[0;34m,\u001b[0m \u001b[0mmaximize\u001b[0m \u001b[0;34m=\u001b[0m \u001b[0;32mTrue\u001b[0m\u001b[0;34m)\u001b[0m\u001b[0;34m:\u001b[0m\u001b[0;34m\u001b[0m\u001b[0;34m\u001b[0m\u001b[0m\n\u001b[1;32m    573\u001b[0m         \u001b[0mself\u001b[0m\u001b[0;34m.\u001b[0m\u001b[0mreset_hidden_state\u001b[0m\u001b[0;34m(\u001b[0m\u001b[0;34m)\u001b[0m\u001b[0;34m\u001b[0m\u001b[0;34m\u001b[0m\u001b[0m\n\u001b[0;32m--> 574\u001b[0;31m         \u001b[0mstart\u001b[0m \u001b[0;34m=\u001b[0m \u001b[0;34m'.'\u001b[0m \u001b[0;34m+\u001b[0m \u001b[0minput\u001b[0m\u001b[0;34m(\u001b[0m\u001b[0;34m'Starting string: '\u001b[0m\u001b[0;34m)\u001b[0m\u001b[0;34m\u001b[0m\u001b[0;34m\u001b[0m\u001b[0m\n\u001b[0m\u001b[1;32m    575\u001b[0m         \u001b[0mresult\u001b[0m \u001b[0;34m=\u001b[0m \u001b[0mstart\u001b[0m\u001b[0;34m[\u001b[0m\u001b[0;36m1\u001b[0m\u001b[0;34m:\u001b[0m\u001b[0;34m]\u001b[0m\u001b[0;34m\u001b[0m\u001b[0;34m\u001b[0m\u001b[0m\n\u001b[1;32m    576\u001b[0m         \u001b[0;32mfor\u001b[0m \u001b[0mc\u001b[0m \u001b[0;32min\u001b[0m \u001b[0mstart\u001b[0m\u001b[0;34m:\u001b[0m\u001b[0;34m\u001b[0m\u001b[0;34m\u001b[0m\u001b[0m\n",
            "\u001b[0;32m/usr/local/lib/python3.6/dist-packages/ipykernel/kernelbase.py\u001b[0m in \u001b[0;36mraw_input\u001b[0;34m(self, prompt)\u001b[0m\n\u001b[1;32m    703\u001b[0m             \u001b[0mself\u001b[0m\u001b[0;34m.\u001b[0m\u001b[0m_parent_ident\u001b[0m\u001b[0;34m,\u001b[0m\u001b[0;34m\u001b[0m\u001b[0;34m\u001b[0m\u001b[0m\n\u001b[1;32m    704\u001b[0m             \u001b[0mself\u001b[0m\u001b[0;34m.\u001b[0m\u001b[0m_parent_header\u001b[0m\u001b[0;34m,\u001b[0m\u001b[0;34m\u001b[0m\u001b[0;34m\u001b[0m\u001b[0m\n\u001b[0;32m--> 705\u001b[0;31m             \u001b[0mpassword\u001b[0m\u001b[0;34m=\u001b[0m\u001b[0;32mFalse\u001b[0m\u001b[0;34m,\u001b[0m\u001b[0;34m\u001b[0m\u001b[0;34m\u001b[0m\u001b[0m\n\u001b[0m\u001b[1;32m    706\u001b[0m         )\n\u001b[1;32m    707\u001b[0m \u001b[0;34m\u001b[0m\u001b[0m\n",
            "\u001b[0;32m/usr/local/lib/python3.6/dist-packages/ipykernel/kernelbase.py\u001b[0m in \u001b[0;36m_input_request\u001b[0;34m(self, prompt, ident, parent, password)\u001b[0m\n\u001b[1;32m    733\u001b[0m             \u001b[0;32mexcept\u001b[0m \u001b[0mKeyboardInterrupt\u001b[0m\u001b[0;34m:\u001b[0m\u001b[0;34m\u001b[0m\u001b[0;34m\u001b[0m\u001b[0m\n\u001b[1;32m    734\u001b[0m                 \u001b[0;31m# re-raise KeyboardInterrupt, to truncate traceback\u001b[0m\u001b[0;34m\u001b[0m\u001b[0;34m\u001b[0m\u001b[0;34m\u001b[0m\u001b[0m\n\u001b[0;32m--> 735\u001b[0;31m                 \u001b[0;32mraise\u001b[0m \u001b[0mKeyboardInterrupt\u001b[0m\u001b[0;34m\u001b[0m\u001b[0;34m\u001b[0m\u001b[0m\n\u001b[0m\u001b[1;32m    736\u001b[0m             \u001b[0;32melse\u001b[0m\u001b[0;34m:\u001b[0m\u001b[0;34m\u001b[0m\u001b[0;34m\u001b[0m\u001b[0m\n\u001b[1;32m    737\u001b[0m                 \u001b[0;32mbreak\u001b[0m\u001b[0;34m\u001b[0m\u001b[0;34m\u001b[0m\u001b[0m\n",
            "\u001b[0;31mKeyboardInterrupt\u001b[0m: "
          ]
        }
      ]
    },
    {
      "metadata": {
        "id": "ZEwfEUrzx2zr",
        "colab_type": "code",
        "colab": {}
      },
      "cell_type": "code",
      "source": [
        "test_class_names(interactive = True, interactive_top5 = False,\n",
        "           split=0, num_hidden = 150, \n",
        "           num_steps = 20000, step_size = .001, train=False)"
      ],
      "execution_count": 0,
      "outputs": []
    },
    {
      "metadata": {
        "id": "rxC8sgJV0WOP",
        "colab_type": "text"
      },
      "cell_type": "markdown",
      "source": [
        "## Problem 3E\n",
        "\n",
        "The *test_food* function uses a file <a href=\"https://docs.google.com/spreadsheets/d/12eomCfekSdqTlOB4Xwp3n7_FN0SVdVrTDLVUBq-1jyw/edit?usp=sharing\">food.txt</a> of recipe names. Experiment with different values of num_steps; more steps gives better results. Try it in interactive mode; it's more fun. Note the difference between starting with a capital letter versus lower case letter.\n",
        "\n",
        "**In running *test_food*, first try with *train=True*; you can train the RNN yourself with this option. If this takes too much time, run  *test_food* with *train=False*; you can simply load a pre-trained model with this option. **\n",
        "\n"
      ]
    },
    {
      "metadata": {
        "id": "T-G-bm0p1_FT",
        "colab_type": "code",
        "colab": {}
      },
      "cell_type": "code",
      "source": [
        "test_food(interactive = True, interactive_top5 = True, \n",
        "          split=0, num_hidden = 150, \n",
        "          num_steps = 20000, step_size = .001, train=False)"
      ],
      "execution_count": 0,
      "outputs": []
    },
    {
      "metadata": {
        "id": "pHRpZudK0iye",
        "colab_type": "code",
        "colab": {}
      },
      "cell_type": "code",
      "source": [
        "test_food(interactive = True, interactive_top5 = False, \n",
        "          split=0, num_hidden = 150, \n",
        "          num_steps = 20000, step_size = .001, train=False)"
      ],
      "execution_count": 0,
      "outputs": []
    },
    {
      "metadata": {
        "id": "9eFwDWYXVB15",
        "colab_type": "text"
      },
      "cell_type": "markdown",
      "source": [
        "## Problem 3F\n",
        "\n",
        "The <code>test_comapny_names</code> function uses the file <a href=\"https://docs.google.com/spreadsheets/d/16wbhwRwu5AP4gydX9buHZj884v48HURaalYtKmdT8r0/edit?usp=sharing\">companies.txt</a> of company names. Experiment with different\n",
        "values of num_steps; more steps gives better results.  Try it in\n",
        "interactive mode, by setting <code>interactive=True</code> but still set <code>interactive_top5=False</code>; it's more fun. Note the difference between starting\n",
        "with a capital letter versus lower case letter.\n",
        "\n",
        "**In running *test_company_names*, first try with *train=True*; you can train the RNN yourself with this option. If this takes too much time, run  *test_company_names* with *train=False*; you can simply load a pre-trained model with this option. **\n",
        "\n"
      ]
    },
    {
      "metadata": {
        "id": "U0gURYiSvgXk",
        "colab_type": "code",
        "colab": {}
      },
      "cell_type": "code",
      "source": [
        "test_company_names(interactive = True, interactive_top5 = False, \n",
        "          split=0, num_hidden = 150, \n",
        "          num_steps = 20000, step_size = .001, train=True)"
      ],
      "execution_count": 0,
      "outputs": []
    },
    {
      "metadata": {
        "id": "J7BIAXvSvge0",
        "colab_type": "code",
        "colab": {}
      },
      "cell_type": "code",
      "source": [
        "test_company_names(interactive = True, interactive_top5 = False, \n",
        "          split=0, num_hidden = 150, \n",
        "          num_steps = 20000, step_size = .001, train=False)"
      ],
      "execution_count": 0,
      "outputs": []
    },
    {
      "metadata": {
        "id": "BFYBVV4Svfsh",
        "colab_type": "text"
      },
      "cell_type": "markdown",
      "source": [
        "## Problem 3G\n",
        "\n",
        "Now run one of <code>test_class_names, test_food, test_comapny_names</code> with <code>interactive_top5=True</code>; play with them for a while. Can you notice the mechanism of how these functions generate their output? \n",
        "\n",
        "Use the cell below to run one of <code>test_class_names, test_food, test_comapny_names</code> with <code>interactive_top5=True</code>!"
      ]
    },
    {
      "metadata": {
        "id": "m4ry0vweVOl-",
        "colab_type": "code",
        "colab": {}
      },
      "cell_type": "code",
      "source": [
        "test_class_names(interactive = True, interactive_top5 = True, split=0, num_hidden = 150, num_steps = 20000, step_size = .001, train=False)"
      ],
      "execution_count": 0,
      "outputs": []
    },
    {
      "metadata": {
        "id": "Ug4mvoGaVeKR",
        "colab_type": "code",
        "colab": {}
      },
      "cell_type": "code",
      "source": [
        "test_food(interactive = True, interactive_top5 = True, split=0, num_hidden = 150, num_steps = 20000, step_size = .001, train=False)"
      ],
      "execution_count": 0,
      "outputs": []
    },
    {
      "metadata": {
        "id": "c3R3Hmu0xvht",
        "colab_type": "code",
        "colab": {}
      },
      "cell_type": "code",
      "source": [
        "test_company_names(interactive = True, interactive_top5 = True, split=0, num_hidden = 150, num_steps = 20000, step_size = .001, train=False)"
      ],
      "execution_count": 0,
      "outputs": []
    }
  ]
}