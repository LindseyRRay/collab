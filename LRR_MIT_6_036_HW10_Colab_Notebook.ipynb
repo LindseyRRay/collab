{
  "nbformat": 4,
  "nbformat_minor": 0,
  "metadata": {
    "colab": {
      "name": "LRR MIT 6.036 HW10 Colab Notebook",
      "version": "0.3.2",
      "provenance": [],
      "collapsed_sections": [],
      "include_colab_link": true
    },
    "kernelspec": {
      "name": "python3",
      "display_name": "Python 3"
    }
  },
  "cells": [
    {
      "cell_type": "markdown",
      "metadata": {
        "id": "view-in-github",
        "colab_type": "text"
      },
      "source": [
        "<a href=\"https://colab.research.google.com/github/Lrraymond13/collab/blob/master/LRR_MIT_6_036_HW10_Colab_Notebook.ipynb\" target=\"_parent\"><img src=\"https://colab.research.google.com/assets/colab-badge.svg\" alt=\"Open In Colab\"/></a>"
      ]
    },
    {
      "metadata": {
        "id": "q58cS9antfCw",
        "colab_type": "text"
      },
      "cell_type": "markdown",
      "source": [
        "#MIT 6.036 Spring 2019: Homework 10#\n",
        "\n",
        "This colab notebook provides code and a framework for questions 2, 3, and 4 from [homework 10](https://lms.mitx.mit.edu/courses/course-v1:MITx+6.036+2019_Spring/courseware/Week10/week10_homework/).  You can work out your solutions here, then submit your results back on the homework page when ready.\n",
        "\n",
        "## <section>**Setup**</section>\n",
        "\n",
        "First, download the code distribution for this homework that contains test cases and helper functions.\n",
        "\n",
        "Run the next code block to download and import the code for this lab."
      ]
    },
    {
      "metadata": {
        "id": "OUEtSZRdtmI2",
        "colab_type": "code",
        "colab": {
          "base_uri": "https://localhost:8080/",
          "height": 195
        },
        "outputId": "fa58e0b7-daf8-476f-ed22-0dae0fff68ae"
      },
      "cell_type": "code",
      "source": [
        "!rm -rf code_for_hw10* __MACOSX data .DS_Store\n",
        "!wget --quiet https://introml.odl.mit.edu/cat-soop/_static/6.036/homework/hw10/code_for_hw10.zip\n",
        "!unzip code_for_hw10.zip\n",
        "!mv code_for_hw10/* .\n",
        "\n",
        "import code_for_hw10 as code_for_hw10\n",
        "import mdp10 as mdp\n",
        "\n",
        "import numpy as np\n",
        "import math as m\n",
        "import random\n",
        "\n",
        "import pdb\n",
        "from dist import uniform_dist, delta_dist, mixture_dist\n",
        "from util import argmax_with_val, argmax\n",
        "from keras.models import Sequential\n",
        "from keras.layers.core import Dense\n",
        "from keras.optimizers import Adam\n",
        "\n",
        "import importlib"
      ],
      "execution_count": 1,
      "outputs": [
        {
          "output_type": "stream",
          "text": [
            "Archive:  code_for_hw10.zip\n",
            "   creating: code_for_hw10/\n",
            "  inflating: code_for_hw10/util.py   \n",
            "  inflating: code_for_hw10/mdp10.py  \n",
            "   creating: __MACOSX/\n",
            "   creating: __MACOSX/code_for_hw10/\n",
            "  inflating: __MACOSX/code_for_hw10/._mdp10.py  \n",
            "  inflating: code_for_hw10/code_for_hw10.py  \n",
            "  inflating: code_for_hw10/dist.py   \n"
          ],
          "name": "stdout"
        },
        {
          "output_type": "stream",
          "text": [
            "Using TensorFlow backend.\n"
          ],
          "name": "stderr"
        },
        {
          "output_type": "display_data",
          "data": {
            "text/html": [
              "<style>\n",
              "       table#id2, #id2 > tbody > tr > th, #id2 > tbody > tr > td {\n",
              "         border: 1px solid lightgray;\n",
              "         border-collapse:collapse;\n",
              "         \n",
              "        }</style>"
            ],
            "text/plain": [
              "<IPython.core.display.HTML object>"
            ]
          },
          "metadata": {
            "tags": [
              "outputarea_id2"
            ]
          }
        },
        {
          "output_type": "display_data",
          "data": {
            "text/html": [
              "<table id=id2><tr><td id=id2-0-0></td><td id=id2-0-1></td><td id=id2-0-2></td><td id=id2-0-3></td><td id=id2-0-4></td><td id=id2-0-5></td><td id=id2-0-6></td><td id=id2-0-7></td><td id=id2-0-8></td><td id=id2-0-9></td></tr></table>"
            ],
            "text/plain": [
              "<IPython.core.display.HTML object>"
            ]
          },
          "metadata": {
            "tags": [
              "outputarea_id2"
            ]
          }
        }
      ]
    },
    {
      "metadata": {
        "id": "3Zhptv005XBN",
        "colab_type": "text"
      },
      "cell_type": "markdown",
      "source": [
        "# 2) Implement Q-Learning\n",
        "\n",
        "We'll work up to implementing the Q-learning algorithm by extending our code from HW9. In the next block, please copy and paste your implementations of the following functions from HW9."
      ]
    },
    {
      "metadata": {
        "id": "0cu9UMTm2l8x",
        "colab_type": "code",
        "colab": {}
      },
      "cell_type": "code",
      "source": [
        "def value_iteration(mdp, q, eps = 0.01, max_iters = 1000):\n",
        "    def v(s):\n",
        "        return value(q,s)\n",
        "    for it in range(max_iters):\n",
        "        new_q = q.copy()\n",
        "        delta = 0\n",
        "        for s in mdp.states:\n",
        "            for a in mdp.actions:\n",
        "                new_q.set(s, a, mdp.reward_fn(s, a) + mdp.discount_factor * \\\n",
        "                          mdp.transition_model(s, a).expectation(v))\n",
        "                delta = max(delta, abs(new_q.get(s, a) - q.get(s, a)))\n",
        "        if delta < eps:\n",
        "            return new_q\n",
        "        q = new_q\n",
        "    return q\n",
        "\n",
        "def value(q, s):\n",
        "    # Your code here (COPY FROM HW9)\n",
        "    return max(q.get(s, a) for a in q.actions)\n",
        "\n",
        "def greedy(q, s):\n",
        "    \"\"\" Return pi*(s) based on a greedy strategy.\n",
        "\n",
        "    >>> q = TabularQ([0,1,2,3],['b','c'])\n",
        "    >>> q.set(0, 'b', 5)\n",
        "    >>> q.set(0, 'c', 10)\n",
        "    >>> q.set(1, 'b', 2)\n",
        "    >>> greedy(q, 0)\n",
        "    'c'\n",
        "    >>> greedy(q, 1)\n",
        "    'b'\n",
        "    \"\"\"\n",
        "    # solution is: return argmax(q.actions, lambda a: q.get(s, a))\n",
        "    # Your code here\n",
        "    possible_actions = q.actions\n",
        "    max_v = 0\n",
        "    best_a = None\n",
        "    for a in possible_actions:\n",
        "      if q.get(s,a) >= max_v:\n",
        "        max_v = q.get(s,a)\n",
        "        best_a = a\n",
        "    return best_a\n",
        "\n",
        "def epsilon_greedy(q, s, eps = 0.5):\n",
        "    \"\"\" Returns an action.\n",
        "\n",
        "    >>> q = TabularQ([0,1,2,3],['b','c'])\n",
        "    >>> q.set(0, 'b', 5)\n",
        "    >>> q.set(0, 'c', 10)\n",
        "    >>> q.set(1, 'b', 2)\n",
        "    >>> eps = 0.\n",
        "    >>> epsilon_greedy(q, 0, eps) #greedy\n",
        "    'c'\n",
        "    >>> epsilon_greedy(q, 1, eps) #greedy\n",
        "    'b'\n",
        "    \"\"\"\n",
        "    if random.random() < eps:  # True with prob eps, random action\n",
        "        return uniform_dist(q.actions).draw()\n",
        "    else:                   # False with prob 1-eps, greedy action\n",
        "        return greedy(q, s)"
      ],
      "execution_count": 0,
      "outputs": []
    },
    {
      "metadata": {
        "id": "MyKQPeWk5zx1",
        "colab_type": "text"
      },
      "cell_type": "markdown",
      "source": [
        "Run the next code block to make sure what you need from HW9 is working."
      ]
    },
    {
      "metadata": {
        "id": "Fvz2c_Vs3JuN",
        "colab_type": "code",
        "colab": {
          "base_uri": "https://localhost:8080/",
          "height": 195
        },
        "outputId": "53d7858d-a7ba-403f-bc78-b9e53054d586"
      },
      "cell_type": "code",
      "source": [
        "mdp.value = value\n",
        "mdp.greedy = greedy\n",
        "mdp.epsilon_greedy = epsilon_greedy\n",
        "mdp.value_iteration = value_iteration\n",
        "\n",
        "importlib.reload(code_for_hw10)\n",
        "\n",
        "# Test: Value Iteration\n",
        "code_for_hw10.test_solve_play()\n",
        "\n",
        "# Expected output:\n",
        "# '''\n",
        "# Reward 100\n",
        "# Reward 100\n",
        "# Reward 100\n",
        "# Reward 100\n",
        "# Reward 100\n",
        "# Reward 100\n",
        "# Reward 100\n",
        "# Reward 100\n",
        "# Reward 100\n",
        "# Reward 100\n",
        "# '''"
      ],
      "execution_count": 3,
      "outputs": [
        {
          "output_type": "display_data",
          "data": {
            "text/html": [
              "<style>\n",
              "       table#id4, #id4 > tbody > tr > th, #id4 > tbody > tr > td {\n",
              "         border: 1px solid lightgray;\n",
              "         border-collapse:collapse;\n",
              "         \n",
              "        }</style>"
            ],
            "text/plain": [
              "<IPython.core.display.HTML object>"
            ]
          },
          "metadata": {
            "tags": [
              "outputarea_id4"
            ]
          }
        },
        {
          "output_type": "display_data",
          "data": {
            "text/html": [
              "<table id=id4><tr><td id=id4-0-0></td><td id=id4-0-1></td><td id=id4-0-2></td><td id=id4-0-3></td><td id=id4-0-4></td><td id=id4-0-5></td><td id=id4-0-6></td><td id=id4-0-7></td><td id=id4-0-8></td><td id=id4-0-9></td></tr></table>"
            ],
            "text/plain": [
              "<IPython.core.display.HTML object>"
            ]
          },
          "metadata": {
            "tags": [
              "outputarea_id4"
            ]
          }
        },
        {
          "output_type": "stream",
          "text": [
            "Reward 100\n",
            "Reward 100\n",
            "Reward 100\n",
            "Reward 100\n",
            "Reward 100\n",
            "Reward 100\n",
            "Reward 100\n",
            "Reward 100\n",
            "Reward 100\n",
            "Reward 100\n"
          ],
          "name": "stdout"
        }
      ]
    },
    {
      "metadata": {
        "id": "oCaiqNqB6D2-",
        "colab_type": "text"
      },
      "cell_type": "markdown",
      "source": [
        "## 2.1) Q update\n",
        "\n",
        "First, we'll extend our implementation of the TabularQ class in HW 9 (Problem 5) to incorporate the crucial operation of Q-learning, which is to update the Q value for a given `(s, a)` entry and move it part of the way towards a \"target\" value *t*.\n",
        "\n",
        "> *Q(s,a) ← (1−α)Q(s,a) + αt*\n",
        "\n",
        "Note that this can also be written as:\n",
        "\n",
        "> *Q(s,a)← Q(s,a)+α(t−Q(s,a))*\n",
        "\n",
        "That is, move a small (*α*) step towards t."
      ]
    },
    {
      "metadata": {
        "id": "RL0934247JNK",
        "colab_type": "text"
      },
      "cell_type": "markdown",
      "source": [
        "Let's define a new method for `TabularQ` that implements this, in a batched form. We will be given a list of `(s, a, t)` triples and have to do all the updates. Note that update is a method of the `TabularQ` class, so you can access the other methods and attributes.\n",
        "\n",
        "* `data` is a list of `(s, a, t)` tuples.\n",
        "* `lr` is a learning rate (*α* above)\n",
        "* We will have to update `self.q[(s,a)]` for all of the data.\n"
      ]
    },
    {
      "metadata": {
        "id": "8FZlzaFevNkD",
        "colab_type": "code",
        "colab": {}
      },
      "cell_type": "code",
      "source": [
        "class TabularQ:\n",
        "    def __init__(self, states, actions):\n",
        "        self.actions = actions\n",
        "        self.states = states\n",
        "        self.q = dict([((s, a), 0.0) for s in states for a in actions])\n",
        "    def copy(self):\n",
        "        q_copy = TabularQ(self.states, self.actions)\n",
        "        q_copy.q.update(self.q)\n",
        "        return q_copy\n",
        "    def set(self, s, a, v):\n",
        "        self.q[(s,a)] = v\n",
        "    def get(self, s, a):\n",
        "        return self.q[(s,a)]\n",
        "    def update(self, data, lr):\n",
        "        # answer code\n",
        "        ##for (s, a, t) in data:\n",
        "        # self.q[(s, a)] = (1 - lr) * self.q[(s, a)] + lr * t\n",
        "        for s, a, t in data:\n",
        "          q = self.get(s,a)\n",
        "          q_new = q + lr*(t-q)\n",
        "          self.set(s, a, q_new)"
      ],
      "execution_count": 0,
      "outputs": []
    },
    {
      "metadata": {
        "id": "aeQekM6h7vuL",
        "colab_type": "text"
      },
      "cell_type": "markdown",
      "source": [
        "## 2.2) Q_learn\n",
        "\n",
        "Complete the definition of the `Q_learn` function. It should update the entries in the `q` function, `(s, a)`, towards their estimated Q values. It should terminate after `iters` iterations and use learning rate `lr`. Use the `q.update` method, which you just wrote, to update the Q values."
      ]
    },
    {
      "metadata": {
        "id": "tzaOD9VY7_4-",
        "colab_type": "text"
      },
      "cell_type": "markdown",
      "source": [
        "You will need to both simulate the agent's trajectory through the space as well as perform the updates to the Q function estimates. In this version, you should update the Q values after every transition, using a single `(s, a, t)` tuple. **The following methods and functions have already been defined for you.**\n",
        "\n",
        "\n",
        "* To start a new simulation, call `mdp.init_state()`. That will draw a state from the MDP's initial state distribution.\n",
        "* You can use the functions that we defined in HW 9: `epsilon_greedy` for action selection (epsilon_greedy takes `(q, s, eps = 0.5)` as input and returns an action) `value` takes `(q, s)` and returns the max Q value for a state.\n",
        "* To take a step in the simulation, starting in a given state, `s`, using action a, call `mdp.sim_transition(s,a)`. It will return a pair `(r, s_prime)` denoting the reward received by the agent at that step and the next state.\n",
        "* Be careful in treating terminal states. Recall that at a terminal state, there may be an immediate reward but the future expected value will be zero.\n",
        "* Return `q` so that the Tutor can test it."
      ]
    },
    {
      "metadata": {
        "id": "00YIgjEwvOab",
        "colab_type": "code",
        "colab": {}
      },
      "cell_type": "code",
      "source": [
        "def Q_learn(mdp, q, lr=.1, iters=100, eps=0.5, interactive_fn=None):\n",
        "    # define initial state\n",
        "    s = mdp.init_state()\n",
        "    for i in range(iters):\n",
        "      # select an action\n",
        "        a = epsilon_greedy(q, s, eps)\n",
        "        # simulate transition to the next state\n",
        "        r, s_prime = mdp.sim_transition(s, a)\n",
        "        # compute future expected value given q function and next state\n",
        "        #if a terminal state, 0 future rewards\n",
        "        future_val = 0 if mdp.terminal(s) else value(q, s_prime)\n",
        "        # perform the q learning update by moving towards the new value t\n",
        "        q.update([(s, a, (r + mdp.discount_factor * future_val))], lr)\n",
        "        s = s_prime\n",
        "        if interactive_fn: interactive_fn(q, i)\n",
        "    return q\n",
        "        \n",
        "      "
      ],
      "execution_count": 0,
      "outputs": []
    },
    {
      "metadata": {
        "id": "UweE9iUL897r",
        "colab_type": "text"
      },
      "cell_type": "markdown",
      "source": [
        "Run the next code block to test your implementation of `Q_learn`."
      ]
    },
    {
      "metadata": {
        "id": "gzEz4q7y3R8a",
        "colab_type": "code",
        "colab": {
          "base_uri": "https://localhost:8080/",
          "height": 658
        },
        "outputId": "462a95a5-34f1-43be-9466-acad64e417c1"
      },
      "cell_type": "code",
      "source": [
        "mdp.TabularQ = TabularQ\n",
        "mdp.Q_learn = Q_learn\n",
        "importlib.reload(code_for_hw10)\n",
        "\n",
        "# Test: Tabular Q-learn\n",
        "code_for_hw10.test_learn_play(iters=100000, tabular=True, batch=False)"
      ],
      "execution_count": 12,
      "outputs": [
        {
          "output_type": "display_data",
          "data": {
            "text/html": [
              "<style>\n",
              "       table#id10, #id10 > tbody > tr > th, #id10 > tbody > tr > td {\n",
              "         border: 1px solid lightgray;\n",
              "         border-collapse:collapse;\n",
              "         \n",
              "        }</style>"
            ],
            "text/plain": [
              "<IPython.core.display.HTML object>"
            ]
          },
          "metadata": {
            "tags": [
              "outputarea_id10"
            ]
          }
        },
        {
          "output_type": "display_data",
          "data": {
            "text/html": [
              "<table id=id10><tr><td id=id10-0-0></td><td id=id10-0-1></td><td id=id10-0-2></td><td id=id10-0-3></td><td id=id10-0-4></td><td id=id10-0-5></td><td id=id10-0-6></td><td id=id10-0-7></td><td id=id10-0-8></td><td id=id10-0-9></td></tr></table>"
            ],
            "text/plain": [
              "<IPython.core.display.HTML object>"
            ]
          },
          "metadata": {
            "tags": [
              "outputarea_id10"
            ]
          }
        },
        {
          "output_type": "stream",
          "text": [
            "score (0, 6.0)\n",
            "score (10000, 12.6)\n",
            "score (20000, 14.1)\n",
            "score (30000, 17.2)\n",
            "score (40000, 29.5)\n",
            "score (50000, 12.9)\n",
            "score (60000, 24.8)\n",
            "score (70000, 22.3)\n",
            "score (80000, 43.9)\n",
            "score (90000, 43.4)\n",
            "String to upload (incude quotes): \"286c70300a4930310a614930300a61286c70310a284c304c0a46362e300a7470320a61284c31303030304c0a4631322e360a7470330a61284c32303030304c0a4631342e310a7470340a61284c33303030304c0a4631372e320a7470350a61284c34303030304c0a4632392e350a7470360a61284c35303030304c0a4631322e390a7470370a61284c36303030304c0a4632342e380a7470380a61284c37303030304c0a4632322e330a7470390a61284c38303030304c0a4634332e390a747031300a61284c39303030304c0a4634332e340a747031310a61612e\"\n"
          ],
          "name": "stdout"
        },
        {
          "output_type": "display_data",
          "data": {
            "image/png": "[encoded data removed]",
            "text/plain": [
              "<Figure size 432x288 with 1 Axes>"
            ]
          },
          "metadata": {
            "tags": []
          }
        },
        {
          "output_type": "stream",
          "text": [
            "Reward 27\n",
            "Reward 18\n",
            "Reward 18\n",
            "Reward 6\n",
            "Reward 27\n",
            "Reward 28\n",
            "Reward 100\n",
            "Reward 6\n",
            "Reward 6\n",
            "Reward 18\n"
          ],
          "name": "stdout"
        }
      ]
    },
    {
      "metadata": {
        "id": "7PXWcgn99NfK",
        "colab_type": "text"
      },
      "cell_type": "markdown",
      "source": [
        "## 2.3) Batch Q_learn\n",
        "\n",
        "Assume your previous update method has been defined.\n",
        "\n",
        "In the standard Q-learning algorithm, we make one epsilon-greedy transition based on the current Q estimate and then update the Q values. You can think of this as being like stochastic gradient descent. We can also define a version that is more like batch gradient descent, where we generate one or more \"episodes\" (sequences of transitions) using the current Q values and then update the Q values based on all the observed results. We can also keep around old transitions and use them (all or a random subset) in the update as well. **Note that as our Q value estimate evolves, the target Q value computed from a previously observed transition can change.**\n",
        "\n",
        "Implement this version of batch Q-learning that (a) generates some specifed number of episodes of a given length (see `sim_episode` below), (b) adds these to the experiences we have seen previously, and (c) updates the Q estimates based on **all the experience so far**. Return `q` so that the Tutor can test it."
      ]
    },
    {
      "metadata": {
        "id": "5Qa-SuRm-Xss",
        "colab_type": "text"
      },
      "cell_type": "markdown",
      "source": [
        "```\n",
        "# Simulate an episode (sequence of transitions) of at most\n",
        "# episode_length, using policy function to select actions.  If we find\n",
        "# a terminal state, end the episode.  Return accumulated reward a list\n",
        "# of (s, a, r, s') where s' is None for transition from terminal state.\n",
        "# Also return an animation if draw=True.\n",
        "def sim_episode(mdp, episode_length, policy, draw=False):\n",
        "    episode = []\n",
        "    reward = 0\n",
        "    s = mdp.init_state()\n",
        "    all_states = [s]\n",
        "    for i in range(episode_length):\n",
        "        a = policy(s)\n",
        "        (r, s_prime) = mdp.sim_transition(s, a)\n",
        "        reward += r\n",
        "        if mdp.terminal(s):\n",
        "            episode.append((s, a, r, None))\n",
        "            break\n",
        "        episode.append((s, a, r, s_prime))\n",
        "        if draw: \n",
        "            mdp.draw_state(s)\n",
        "        s = s_prime\n",
        "        all_states.append(s)\n",
        "    animation = animate(all_states, mdp.n, episode_length) if draw else None\n",
        "    return reward, episode, animation\n",
        "```\n",
        "\n",
        "This definition is already available for you. Note that `sim_episode` can return tuples with `s_prime = None`."
      ]
    },
    {
      "metadata": {
        "id": "2IHoMJaI-ZhC",
        "colab_type": "text"
      },
      "cell_type": "markdown",
      "source": [
        "**Clarifications**\n",
        "\n",
        "* There should be a SINGLE call to `q.update` per iteration, not per episode or per experience. Just one call per iteration, with a lot of data.\n",
        "* Let's understand the distinction between experiences `(s, a, r, s')` and Q targets `(s, a, t)`. Note that experiences don't depend on the current estimated Q values (only on the environment we are acting in), but the \"t\" in the Q targets depends on the current Q values. So, it makes sense to store experiences across iterations, but not to store Q targets, since the Q targets change when we update our Q values. Thus, you want to continuously aggregate the experience and then, in each iteration, re-compute the Q targets under the current estimated Q values, then do the update with all of these Q targets. Here's pseudocode:\n",
        "\n",
        "\n",
        "```\n",
        "all_experiences = []\n",
        "Loop over n_iterations:\n",
        "    Loop over n_episodes:\n",
        "        Generate an episode of length episode_length, append this experience to all_experiences\n",
        "    all_q_targets = []\n",
        "    Loop over all_experiences:\n",
        "        Append Q target from one experience to all_q_targets\n",
        "        Remember to handle terminal states (where s' = None)\n",
        "    q.update(all_q_targets, lr)\n",
        "return q\n",
        "```\n",
        "\n"
      ]
    },
    {
      "metadata": {
        "id": "8uHjoRWPvScc",
        "colab_type": "code",
        "colab": {}
      },
      "cell_type": "code",
      "source": [
        "def Q_learn_batch(mdp, q, lr=.1, iters=100, eps=0.5,\n",
        "                  episode_length=10, n_episodes=2,\n",
        "                  interactive_fn=None):\n",
        "    # Your code here\n",
        "    for i in range(iters):\n",
        "        # include this line in the iteration, where i is the iteration number\n",
        "        if interactive_fn: interactive_fn(q, i)\n",
        "    pass"
      ],
      "execution_count": 0,
      "outputs": []
    },
    {
      "metadata": {
        "id": "lv9oygbu9Sz1",
        "colab_type": "text"
      },
      "cell_type": "markdown",
      "source": [
        "Run the next code block to test your implementation of `Q_learn_batch`."
      ]
    },
    {
      "metadata": {
        "id": "pFvMhZuL3-Y9",
        "colab_type": "code",
        "colab": {}
      },
      "cell_type": "code",
      "source": [
        "sim_episode = mdp.sim_episode\n",
        "mdp.Q_learn_batch = Q_learn_batch\n",
        "importlib.reload(code_for_hw10)\n",
        "\n",
        "# Test: Tabular Batch Q-learn\n",
        "code_for_hw10.test_learn_play(iters=10, tabular=True, batch=True) # Check: why do we want fewer iterations here?"
      ],
      "execution_count": 0,
      "outputs": []
    },
    {
      "metadata": {
        "id": "sj5q0rup9eq0",
        "colab_type": "text"
      },
      "cell_type": "markdown",
      "source": [
        "# 3) NN Q\n",
        "\n",
        "Now we will combine neural networks with Q-learning. There are a wide variety of ways to do this, some of which are referred to as \"deep Q-learning\". They all hinge on the following ideas, which are explained in depth in the notes:\n",
        "\n",
        "* We would like to operate in large or continuous state and/or action spaces so it is not possible (or effective) to store the *Q* values in a table; instead, we will \"store\" them by training a neural network to do regression for us, taking *s, a* as input and generating (an approximation of) *Q∗(s,a)* as output.\n",
        "* To train the network, we will use *squared Bellman error* as the loss function (see [homework 10](https://lms.mitx.mit.edu/courses/course-v1:MITx+6.036+2019_Spring/courseware/Week10/week10_homework/) for equation)."
      ]
    },
    {
      "metadata": {
        "id": "IO0ScUsIDdUZ",
        "colab_type": "text"
      },
      "cell_type": "markdown",
      "source": [
        "We will explore two different algorithms and one input representation. There are many choices of neural network architecture. We are going to work on a problem with a very small set (size 3) of actions and we will:\n",
        "\n",
        "* Make one neural network for each possible action *a*.\n",
        "* Design that network with 2 **hidden** layers, with ReLU units, and a single linear output unit; and\n",
        "* Use mean squared error (mse) as the loss function since we are doing regression\n",
        "* Use `Adam()` as your optimizer."
      ]
    },
    {
      "metadata": {
        "id": "ZFgdkm09Dq3f",
        "colab_type": "text"
      },
      "cell_type": "markdown",
      "source": [
        "In Keras, we would create such a network as follows:\n",
        "\n",
        "\n",
        "```\n",
        "def make_nn(state_dim, num_hidden_layers, num_units):\n",
        "    model = Sequential()\n",
        "    model.add(Dense(num_units, input_dim = state_dim, activation='relu'))\n",
        "    for i in range(num_hidden_layers-1):\n",
        "        model.add(Dense(num_units, activation='relu'))\n",
        "    model.add(Dense(1, activation='linear'))\n",
        "    model.compile(loss='mse', optimizer=Adam())\n",
        "    return model\n",
        "```"
      ]
    },
    {
      "metadata": {
        "id": "tx9u0Gb7-9Ev",
        "colab_type": "text"
      },
      "cell_type": "markdown",
      "source": [
        "## 3.1) Basic neural network Q-learning\n",
        "\n",
        "We'll call the first algorithm *basic neural network Q-learning*. It was the first strategy to be used to combine Q-learning and neural networks, and suffers from the *correlated experience* problem described in the notes. However, it is relatively easy to implement and works okay on very simple problems.\n",
        "\n",
        "In basic NN Q-learning, just as in the version of Q-learning we implemented above, you simulate a trajectory through state space, using *ϵ*-greedy action selection, and making an update to your Q functions after each piece of experience *(s, a, r, s′)*. You do this by doing one epoch of training on your network for action *a*, on a data set made up of a single data point, where the input is *s* and the desired output is *r + γ max_a' Q(s', a')*, using the current estimates of *Q*.\n",
        "\n",
        "This might sound very familiar. In fact, it is exactly `Q_learn` except that instead of using a tabular representation of the the Q function, we are using a neural net to approximate the Q values for the state. In particular, the update method corresponds to training the neural net with the target Q value.\n",
        "\n",
        "To use a neural net implementation of Q values, for a given action, we will need to have a mapping from states to fixed-length row vectors. We will assume that the `MDP` class has a `state2vec` method that maps states to vectors. For the simple MDPs we have seen so far, this simply returns a one-hot representation of the state.\n",
        "\n",
        "Now, all we need is to write a new class to implement the Q function and then we should be able to use the `Q_learn` directly to do Neural Net Q-learning (NNQ). **The arguments to the `get` and `update` methods are the same as those in `TabularQ`; please review those now.**"
      ]
    },
    {
      "metadata": {
        "id": "2tXUtkSTE7fk",
        "colab_type": "text"
      },
      "cell_type": "markdown",
      "source": [
        "We will assume that we have a small number of actions and we will use a neural net to learn the Q values for each action. Keep a dictionary of these NN models in `self.models` using the action as the key. Note that you have access to `make_nn` which was previously described.\n",
        "\n",
        "For each `update` call, create one training set for each action *a*:\n",
        "\n",
        "1. Extract the tuples from your data set that contain action aa. Recall that the `data` tuples are of the form `(s, a, t)`, where t is a target Q value.\n",
        "2. Let the *X* values of your training set be all of the *s* values from your data tuples with action *a* and the *Y* values be the target Q values given in the data tuples.\n",
        "\n",
        "Train the network for action *a* for the specified number of epochs, using `self.models[a].fit(X, Y, epochs=epochs)`. In Basic Q-Learning, we will always use `epochs=1`, but make this a general argument in creating an instance of the class. **Ignore the `lr` argument to the `update` method, we'll let Adam pick learning rates.**"
      ]
    },
    {
      "metadata": {
        "id": "EKE6GBaxveRi",
        "colab_type": "code",
        "colab": {}
      },
      "cell_type": "code",
      "source": [
        "class NNQ:\n",
        "    def __init__(self, states, actions, state2vec, num_layers, num_units, epochs=1):\n",
        "        self.actions = actions\n",
        "        self.states = states\n",
        "        self.state2vec = state2vec\n",
        "        self.epochs = epochs\n",
        "        self.models = None              # Your code here\n",
        "    def get(self, s, a):\n",
        "        # Your code here\n",
        "        pass\n",
        "    def update(self, data, lr):\n",
        "        # Your code here\n",
        "        pass"
      ],
      "execution_count": 0,
      "outputs": []
    },
    {
      "metadata": {
        "id": "UJ1PYVqe9Vq0",
        "colab_type": "text"
      },
      "cell_type": "markdown",
      "source": [
        "Run the next code block to test your implementation of `NNQ`."
      ]
    },
    {
      "metadata": {
        "id": "WYNYWo7BvfIC",
        "colab_type": "code",
        "colab": {}
      },
      "cell_type": "code",
      "source": [
        "make_nn = mdp.make_nn\n",
        "mdp.NNQ = NNQ\n",
        "importlib.reload(code_for_hw10)\n",
        "\n",
        "# Test: NN Q-learn\n",
        "code_for_hw10.test_learn_play(iters=100000, tabular=False, batch=False)"
      ],
      "execution_count": 0,
      "outputs": []
    },
    {
      "metadata": {
        "id": "quq-Uh44_Bbo",
        "colab_type": "text"
      },
      "cell_type": "markdown",
      "source": [
        "## 3.2) Fitted Q iteration\n",
        "\n",
        "*Fitted Q iteration (FQ)* suffers less from the correlated experience problem and is generally more stable (and sometimes slower) than NNQ.\n",
        "\n",
        "FQ initializes the Q networks and an empty data set, then operates in a loop:\n",
        "\n",
        "1. Use *ϵ*-greedy exploration to generate *k* steps of experience, of the form *(s,a,r,s′)* and add them to the data set.\n",
        "2. Create one training set for each action *a*:\n",
        "\n",
        "> 1. Extract all the tuples from your data set that contain action *a*,\n",
        "> 2. Let the *X* values of your training set be all of the *s* values from your data tuples with action *a* and the *Y* values be the *r + γ max_a' Q(s', a')* values computed for each data tuple, using the Q estimates from the current network.\n",
        "\n",
        "3. Train the network for action *a* for several epochs until it has done a good job of representing this data.\n",
        "\n",
        "So, this is basically `Q_learn_batch` using `NNQ` (training with multiple epochs) to implement the Q function."
      ]
    },
    {
      "metadata": {
        "id": "0kW_URSm9mOI",
        "colab_type": "text"
      },
      "cell_type": "markdown",
      "source": [
        "Run the next code block to test your implementation of `NNQ` with batching."
      ]
    },
    {
      "metadata": {
        "id": "SY6H72oV4z5O",
        "colab_type": "code",
        "colab": {}
      },
      "cell_type": "code",
      "source": [
        "# Test: NN Batch Q-learn (Fitted Q-learn)\n",
        "code_for_hw10.test_learn_play(iters=10, tabular=False, batch=True)"
      ],
      "execution_count": 0,
      "outputs": []
    },
    {
      "metadata": {
        "id": "-d4QW3g0ww5H",
        "colab_type": "text"
      },
      "cell_type": "markdown",
      "source": [
        "#4) No Exit\n",
        "\n",
        "Please read the instructions in the [homework](https://lms.mitx.mit.edu/courses/course-v1:MITx+6.036+2019_Spring/courseware/Week10/week10_homework/) to set up for the game. You may use this space to display the game in Colab."
      ]
    },
    {
      "metadata": {
        "id": "zRbeO95qxJf4",
        "colab_type": "code",
        "colab": {}
      },
      "cell_type": "code",
      "source": [
        "test_solve_play(draw = True)"
      ],
      "execution_count": 0,
      "outputs": []
    }
  ]
}