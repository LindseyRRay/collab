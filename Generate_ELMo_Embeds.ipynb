{
  "nbformat": 4,
  "nbformat_minor": 0,
  "metadata": {
    "colab": {
      "name": "Generate ELMo Embeds.ipynb",
      "version": "0.3.2",
      "provenance": [],
      "include_colab_link": true
    },
    "kernelspec": {
      "name": "python3",
      "display_name": "Python 3"
    }
  },
  "cells": [
    {
      "cell_type": "markdown",
      "metadata": {
        "id": "view-in-github",
        "colab_type": "text"
      },
      "source": [
        "<a href=\"https://colab.research.google.com/github/Lrraymond13/collab/blob/master/Generate_ELMo_Embeds.ipynb\" target=\"_parent\"><img src=\"https://colab.research.google.com/assets/colab-badge.svg\" alt=\"Open In Colab\"/></a>"
      ]
    },
    {
      "metadata": {
        "id": "XU_b6OzUZPNQ",
        "colab_type": "code",
        "colab": {
          "base_uri": "https://localhost:8080/",
          "height": 72
        },
        "outputId": "14a87381-c7bc-4de5-c790-09278002fb75"
      },
      "cell_type": "code",
      "source": [
        "import numpy as np\n",
        "import pandas as pd\n",
        "import sklearn\n",
        "import gzip\n",
        "import pickle\n",
        "import collections\n",
        "import re\n",
        "\n",
        "import tensorflow as tf\n",
        "import tensorflow_hub as hub\n",
        "from tensorflow import keras\n",
        "\n",
        "import imblearn\n",
        "from imblearn.under_sampling import RandomUnderSampler"
      ],
      "execution_count": 3,
      "outputs": [
        {
          "output_type": "stream",
          "text": [
            "WARNING: Logging before flag parsing goes to stderr.\n",
            "W0406 23:41:47.521363 140491999655808 __init__.py:56] Some hub symbols are not available because TensorFlow version is less than 1.14\n"
          ],
          "name": "stderr"
        }
      ]
    },
    {
      "metadata": {
        "id": "pRGcE4W-8Bt9",
        "colab_type": "code",
        "colab": {
          "base_uri": "https://localhost:8080/",
          "height": 54
        },
        "outputId": "585b6508-106c-430b-da0b-70fa4452f872"
      },
      "cell_type": "code",
      "source": [
        "# mounr my google drive\n",
        "from google.colab import drive\n",
        "drive.mount('/content/gdrive')"
      ],
      "execution_count": 4,
      "outputs": [
        {
          "output_type": "stream",
          "text": [
            "Drive already mounted at /content/gdrive; to attempt to forcibly remount, call drive.mount(\"/content/gdrive\", force_remount=True).\n"
          ],
          "name": "stdout"
        }
      ]
    },
    {
      "metadata": {
        "id": "Kt1hpKUo7357",
        "colab_type": "code",
        "colab": {
          "base_uri": "https://localhost:8080/",
          "height": 141
        },
        "outputId": "aa14a7ec-a86a-4db0-d1b0-9fe061f4dadf"
      },
      "cell_type": "code",
      "source": [
        "# download embeddings\n",
        "elmo = hub.Module(\"https://tfhub.dev/google/elmo/2\", trainable=False)\n"
      ],
      "execution_count": 5,
      "outputs": [
        {
          "output_type": "stream",
          "text": [
            "WARNING:tensorflow:From /usr/local/lib/python3.6/dist-packages/tensorflow/python/ops/control_flow_ops.py:3632: colocate_with (from tensorflow.python.framework.ops) is deprecated and will be removed in a future version.\n",
            "Instructions for updating:\n",
            "Colocations handled automatically by placer.\n"
          ],
          "name": "stdout"
        },
        {
          "output_type": "stream",
          "text": [
            "W0406 23:41:55.255584 140491999655808 deprecation.py:323] From /usr/local/lib/python3.6/dist-packages/tensorflow/python/ops/control_flow_ops.py:3632: colocate_with (from tensorflow.python.framework.ops) is deprecated and will be removed in a future version.\n",
            "Instructions for updating:\n",
            "Colocations handled automatically by placer.\n"
          ],
          "name": "stderr"
        }
      ]
    },
    {
      "metadata": {
        "id": "e4IkmanD70Nm",
        "colab_type": "code",
        "colab": {
          "base_uri": "https://localhost:8080/",
          "height": 72
        },
        "outputId": "5c8ed53d-27d4-4240-c2d3-9d2905a3f3b7"
      },
      "cell_type": "code",
      "source": [
        "# test phrases\n",
        "# default specifies to return the document embeddings!\n",
        "test_embeds = elmo(['the dog jumped over'], signature=\"default\", as_dict=True)[\"default\"]"
      ],
      "execution_count": 8,
      "outputs": [
        {
          "output_type": "stream",
          "text": [
            "INFO:tensorflow:Saver not created because there are no variables in the graph to restore\n"
          ],
          "name": "stdout"
        },
        {
          "output_type": "stream",
          "text": [
            "I0406 23:42:14.714565 140491999655808 saver.py:1483] Saver not created because there are no variables in the graph to restore\n"
          ],
          "name": "stderr"
        }
      ]
    },
    {
      "metadata": {
        "id": "Sbh7y7Cr9hX6",
        "colab_type": "code",
        "colab": {
          "base_uri": "https://localhost:8080/",
          "height": 34
        },
        "outputId": "6d91e4f3-c9d7-4356-8a3b-289063a75528"
      },
      "cell_type": "code",
      "source": [
        "with tf.Session() as session:\n",
        "    session.run([tf.global_variables_initializer(), tf.tables_initializer()])\n",
        "    message_embeddings = session.run(test_embeds)\n",
        "\n",
        "message_embeddings.shape"
      ],
      "execution_count": 9,
      "outputs": [
        {
          "output_type": "execute_result",
          "data": {
            "text/plain": [
              "(1, 1024)"
            ]
          },
          "metadata": {
            "tags": []
          },
          "execution_count": 9
        }
      ]
    },
    {
      "metadata": {
        "id": "CjInf43G_qp2",
        "colab_type": "code",
        "colab": {}
      },
      "cell_type": "code",
      "source": [
        "# open text files\n",
        "v8 = pd.read_csv('/content/cleaned_abstracts_plus_std.gzip', compression='gzip')"
      ],
      "execution_count": 0,
      "outputs": []
    },
    {
      "metadata": {
        "id": "BeZ9EUfaBBel",
        "colab_type": "code",
        "colab": {}
      },
      "cell_type": "code",
      "source": [
        "v9 = v8.loc[v8['missing_patent_abstract']==0, :]"
      ],
      "execution_count": 0,
      "outputs": []
    },
    {
      "metadata": {
        "id": "QvdfBvWOBIBQ",
        "colab_type": "code",
        "colab": {}
      },
      "cell_type": "code",
      "source": [
        "del v8"
      ],
      "execution_count": 0,
      "outputs": []
    },
    {
      "metadata": {
        "id": "KWSdGZNeGonM",
        "colab_type": "code",
        "colab": {}
      },
      "cell_type": "code",
      "source": [
        "!mkdir /content/elmo_embeddings"
      ],
      "execution_count": 0,
      "outputs": []
    },
    {
      "metadata": {
        "id": "-SsnvwRPGxDQ",
        "colab_type": "code",
        "colab": {
          "base_uri": "https://localhost:8080/",
          "height": 34
        },
        "outputId": "bf3b688e-38f6-4e7f-994f-c35d3cf3ca55"
      },
      "cell_type": "code",
      "source": [
        "n = v9['patent_abstract'].shape[0]\n",
        "print(n)"
      ],
      "execution_count": 36,
      "outputs": [
        {
          "output_type": "stream",
          "text": [
            "188663\n"
          ],
          "name": "stdout"
        }
      ]
    },
    {
      "metadata": {
        "id": "cokbLKmVG3tE",
        "colab_type": "code",
        "colab": {
          "base_uri": "https://localhost:8080/",
          "height": 34
        },
        "outputId": "23f1fd6c-1be7-47ea-8392-e282250d2649"
      },
      "cell_type": "code",
      "source": [
        "n//500"
      ],
      "execution_count": 39,
      "outputs": [
        {
          "output_type": "execute_result",
          "data": {
            "text/plain": [
              "377"
            ]
          },
          "metadata": {
            "tags": []
          },
          "execution_count": 39
        }
      ]
    },
    {
      "metadata": {
        "id": "LfVTkBgMG1ln",
        "colab_type": "code",
        "colab": {}
      },
      "cell_type": "code",
      "source": [
        "for chunk in n//300 "
      ],
      "execution_count": 0,
      "outputs": []
    },
    {
      "metadata": {
        "id": "0V81MFdGBN2_",
        "colab_type": "code",
        "colab": {}
      },
      "cell_type": "code",
      "source": [
        "data_size = 100\n",
        "elmo_texts = v9['patent_abstract'].values[:100]\n",
        "elmo_patent_nums = v9['patent_number'].values[:100]\n"
      ],
      "execution_count": 0,
      "outputs": []
    },
    {
      "metadata": {
        "id": "XO3KKCCDAlg8",
        "colab_type": "code",
        "colab": {
          "base_uri": "https://localhost:8080/",
          "height": 72
        },
        "outputId": "06759bf5-22cd-42ff-ac1c-ea84de5951b9"
      },
      "cell_type": "code",
      "source": [
        "embeds = elmo(v9['patent_abstract'].values[:100], \n",
        "        signature=\"default\", as_dict=True)[\"default\"]"
      ],
      "execution_count": 13,
      "outputs": [
        {
          "output_type": "stream",
          "text": [
            "INFO:tensorflow:Saver not created because there are no variables in the graph to restore\n"
          ],
          "name": "stdout"
        },
        {
          "output_type": "stream",
          "text": [
            "I0406 23:44:17.031167 140491999655808 saver.py:1483] Saver not created because there are no variables in the graph to restore\n"
          ],
          "name": "stderr"
        }
      ]
    },
    {
      "metadata": {
        "id": "QTi-fVC7BhzY",
        "colab_type": "code",
        "colab": {
          "base_uri": "https://localhost:8080/",
          "height": 34
        },
        "outputId": "fa688974-81d8-41c7-d7ff-56e57f76f4ad"
      },
      "cell_type": "code",
      "source": [
        "with tf.Session() as session:\n",
        "    session.run([tf.global_variables_initializer(), tf.tables_initializer()])\n",
        "    message_embeddings = session.run(embeds)\n",
        "\n",
        "print(message_embeddings.shape)"
      ],
      "execution_count": 14,
      "outputs": [
        {
          "output_type": "stream",
          "text": [
            "(100, 1024)\n"
          ],
          "name": "stdout"
        }
      ]
    },
    {
      "metadata": {
        "id": "a83VtD8vEB4o",
        "colab_type": "code",
        "colab": {}
      },
      "cell_type": "code",
      "source": [
        "np.save('/content/elmo_embeds.npy', message_embeddings)"
      ],
      "execution_count": 0,
      "outputs": []
    },
    {
      "metadata": {
        "id": "ad9A8D3sDnkN",
        "colab_type": "code",
        "colab": {}
      },
      "cell_type": "code",
      "source": [
        "labeled = np.concatenate([elmo_patent_nums.reshape((-1, 1)), message_embeddings],  axis=1)"
      ],
      "execution_count": 0,
      "outputs": []
    },
    {
      "metadata": {
        "id": "xTyhp5-PFzCe",
        "colab_type": "code",
        "colab": {
          "base_uri": "https://localhost:8080/",
          "height": 260
        },
        "outputId": "c0c0393b-4692-4b42-82d9-6df1f43afc35"
      },
      "cell_type": "code",
      "source": [
        "print(labeled.shape)\n",
        "print(labeled[:, 0])"
      ],
      "execution_count": 32,
      "outputs": [
        {
          "output_type": "stream",
          "text": [
            "(100, 1025)\n",
            "[4490860. 4490861. 4490864. 4490868. 4490876. 4490896. 4490898. 4490901.\n",
            " 4490902. 4490920. 4490927. 4490931. 4490940. 4490951. 4490955. 4490956.\n",
            " 4490965. 4490966. 4490968. 4490974. 4490975. 4490976. 4490991. 4491011.\n",
            " 4491014. 4491024. 4491037. 4491040. 4491042. 4491054. 4491059. 4491060.\n",
            " 4491075. 4491078. 4491085. 4491129. 4491131. 4491133. 4491134. 4491145.\n",
            " 4491147. 4491154. 4491164. 4491173. 4491176. 4491193. 4491200. 4491208.\n",
            " 4491218. 4491220. 4491222. 4491226. 4491229. 4491231. 4491245. 4491247.\n",
            " 4491253. 4491255. 4491279. 4491309. 4491312. 4491328. 4491331. 4491332.\n",
            " 4491336. 4491337. 4491348. 4491359. 4491362. 4491369. 4491374. 4491377.\n",
            " 4491381. 4491408. 4491436. 4491437. 4491440. 4491449. 4491453. 4491485.\n",
            " 4491495. 4491500. 4491501. 4491503. 4491514. 4491524. 4491526. 4491539.\n",
            " 4491548. 4491559. 4491568. 4491570. 4491576. 4491582. 4491583. 4491584.\n",
            " 4491588. 4491613. 4491620. 4491622.]\n"
          ],
          "name": "stdout"
        }
      ]
    },
    {
      "metadata": {
        "id": "2XW85ML_GDuU",
        "colab_type": "code",
        "colab": {}
      },
      "cell_type": "code",
      "source": [
        "np.save('/content/labeled_elmo_embeds.npy', labeled)"
      ],
      "execution_count": 0,
      "outputs": []
    },
    {
      "metadata": {
        "id": "G21D3CkaESq9",
        "colab_type": "code",
        "colab": {
          "base_uri": "https://localhost:8080/",
          "height": 52
        },
        "outputId": "30a1cb0a-6bb6-4bef-eebd-625fbace2aad"
      },
      "cell_type": "code",
      "source": [
        "np.concatenate([np.array([[1,1], [3, 2]]), np.array([[4], [4]])], axis=1)"
      ],
      "execution_count": 22,
      "outputs": [
        {
          "output_type": "execute_result",
          "data": {
            "text/plain": [
              "array([[1, 1, 4],\n",
              "       [3, 2, 4]])"
            ]
          },
          "metadata": {
            "tags": []
          },
          "execution_count": 22
        }
      ]
    },
    {
      "metadata": {
        "id": "6fEvUWIXEs8V",
        "colab_type": "code",
        "colab": {}
      },
      "cell_type": "code",
      "source": [
        "np.concatenate()"
      ],
      "execution_count": 0,
      "outputs": []
    },
    {
      "metadata": {
        "id": "b9qkCc9PATXH",
        "colab_type": "code",
        "colab": {
          "base_uri": "https://localhost:8080/",
          "height": 89
        },
        "outputId": "160bc75c-c99a-4c64-bfd3-77114d712236"
      },
      "cell_type": "code",
      "source": [
        "# save this to a file"
      ],
      "execution_count": 20,
      "outputs": [
        {
          "output_type": "execute_result",
          "data": {
            "text/plain": [
              "array([4490860,\n",
              "       'an intraocular lens apparatus having an optical lens portion and a mechanism for confining the lens portion within the a marking is applied to the surface of the optical lens portion for indication of a specific zone of the optical lens the marking may consist of an amount of material which is substantially nonreactive to human the physician is able to align the marking in relation to the pupil of the eye before fixing the optical lens portion within the'],\n",
              "      dtype=object)"
            ]
          },
          "metadata": {
            "tags": []
          },
          "execution_count": 20
        }
      ]
    },
    {
      "metadata": {
        "id": "in0P_QMvasNo",
        "colab_type": "code",
        "colab": {}
      },
      "cell_type": "code",
      "source": [
        "# to get something not in collab by default\n",
        "# executes a command line command with an exclamation point prefix\n",
        "# !pip install -q matplotlib-venn"
      ],
      "execution_count": 0,
      "outputs": []
    },
    {
      "metadata": {
        "id": "mC6-fWmsaaZU",
        "colab_type": "code",
        "colab": {}
      },
      "cell_type": "code",
      "source": [
        "# https://pypi.python.org/pypi/pydot\n",
        "#!apt-get -qq install -y graphviz && pip install -q pydot\n",
        "#import pydot"
      ],
      "execution_count": 0,
      "outputs": []
    },
    {
      "metadata": {
        "id": "Uuc8PXoXacrq",
        "colab_type": "code",
        "outputId": "41b9fe23-9f06-459b-ad0c-befb95bbb0e4",
        "colab": {
          "base_uri": "https://localhost:8080/",
          "height": 211
        }
      },
      "cell_type": "code",
      "source": [
        "# To determine which version you're using:\n",
        "!pip show tensorflow\n",
        "\n",
        "# For the current version: \n",
        "#!pip install --upgrade tensorflow\n",
        "\n",
        "# For a specific version:\n",
        "#!pip install tensorflow==1.2\n",
        "\n",
        "# For the latest nightly build:\n",
        "#!pip install tf-nightly"
      ],
      "execution_count": 0,
      "outputs": [
        {
          "output_type": "stream",
          "text": [
            "Name: tensorflow\n",
            "Version: 1.13.1\n",
            "Summary: TensorFlow is an open source machine learning framework for everyone.\n",
            "Home-page: https://www.tensorflow.org/\n",
            "Author: Google Inc.\n",
            "Author-email: opensource@google.com\n",
            "License: Apache 2.0\n",
            "Location: /usr/local/lib/python3.6/dist-packages\n",
            "Requires: six, keras-preprocessing, tensorboard, astor, numpy, protobuf, gast, tensorflow-estimator, wheel, keras-applications, grpcio, absl-py, termcolor\n",
            "Required-by: stable-baselines, magenta, fancyimpute\n"
          ],
          "name": "stdout"
        }
      ]
    },
    {
      "metadata": {
        "id": "_UmQP-UcZVA1",
        "colab_type": "code",
        "outputId": "42f8936f-adf4-477b-dacc-ac9c418905b7",
        "colab": {
          "base_uri": "https://localhost:8080/",
          "height": 34
        }
      },
      "cell_type": "code",
      "source": [
        "import keras\n",
        "from keras.models import Sequential\n",
        "# from keras.optimizers import SGD, Adam\n",
        "# from keras.layers import Conv1D, Conv2D, Dense, Dropout, Flatten, MaxPooling2D\n",
        "# from keras.utils import np_utils\n",
        "# from keras.callbacks import Callback\n",
        "# from keras.datasets import mnist\n",
        "# from keras import backend as K\n",
        "# from keras.initializers import VarianceScaling\n",
        "# from matplotlib import pyplot as plt "
      ],
      "execution_count": 0,
      "outputs": [
        {
          "output_type": "stream",
          "text": [
            "Using TensorFlow backend.\n"
          ],
          "name": "stderr"
        }
      ]
    },
    {
      "metadata": {
        "id": "X8hlwyFoZ2Sr",
        "colab_type": "code",
        "colab": {}
      },
      "cell_type": "code",
      "source": [
        "from google.colab import files\n",
        "\n",
        "uploaded = files.upload()\n",
        "\n",
        "for fn in uploaded.keys():\n",
        "  print('User uploaded file \"{name}\" with length {length} bytes'.format(\n",
        "      name=fn, length=len(uploaded[fn])))"
      ],
      "execution_count": 0,
      "outputs": []
    },
    {
      "metadata": {
        "id": "NJp1c-Hj9gWJ",
        "colab_type": "code",
        "colab": {}
      },
      "cell_type": "code",
      "source": [
        ""
      ],
      "execution_count": 0,
      "outputs": []
    }
  ]
}